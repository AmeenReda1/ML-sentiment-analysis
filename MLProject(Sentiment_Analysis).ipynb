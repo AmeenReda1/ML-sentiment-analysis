{
  "nbformat": 4,
  "nbformat_minor": 0,
  "metadata": {
    "colab": {
      "name": "MLProject(Sentiment Analysis).ipynb",
      "provenance": [],
      "collapsed_sections": [],
      "mount_file_id": "1DdmQYzx-t-hxtwJi8afxHfKTKIionTuW",
      "authorship_tag": "ABX9TyMmEyDFHiSWqD5Qbj/6iOgR",
      "include_colab_link": true
    },
    "kernelspec": {
      "name": "python3",
      "display_name": "Python 3"
    },
    "language_info": {
      "name": "python"
    }
  },
  "cells": [
    {
      "cell_type": "markdown",
      "metadata": {
        "id": "view-in-github",
        "colab_type": "text"
      },
      "source": [
        "<a href=\"https://colab.research.google.com/github/AmeenReda1/ML-sentiment-analysis/blob/main/MLProject(Sentiment_Analysis).ipynb\" target=\"_parent\"><img src=\"https://colab.research.google.com/assets/colab-badge.svg\" alt=\"Open In Colab\"/></a>"
      ]
    },
    {
      "cell_type": "markdown",
      "metadata": {
        "id": "yT-69Sp9oi7Y"
      },
      "source": [
        "# **Import Essential Libraries**"
      ]
    },
    {
      "cell_type": "code",
      "metadata": {
        "colab": {
          "base_uri": "https://localhost:8080/"
        },
        "id": "Q8foApGASeUR",
        "outputId": "ceaf97a0-1821-4bfa-9fbe-08042a5fb914"
      },
      "source": [
        "!pip install nltk"
      ],
      "execution_count": null,
      "outputs": [
        {
          "output_type": "stream",
          "name": "stdout",
          "text": [
            "Requirement already satisfied: nltk in /usr/local/lib/python3.7/dist-packages (3.2.5)\n",
            "Requirement already satisfied: six in /usr/local/lib/python3.7/dist-packages (from nltk) (1.15.0)\n"
          ]
        }
      ]
    },
    {
      "cell_type": "code",
      "metadata": {
        "id": "oP_ZB4rvnuj7",
        "colab": {
          "base_uri": "https://localhost:8080/"
        },
        "outputId": "6032dcd0-ed55-4a66-cfb1-fb2b61d391cf"
      },
      "source": [
        "import pandas as pd\n",
        "import re\n",
        "from __future__ import unicode_literals\n",
        "import string\n",
        "from sklearn import preprocessing\n",
        "import matplotlib.pyplot as plt\n",
        "import seaborn as sns\n",
        "plt.style.use('ggplot')\n",
        "import nltk\n",
        "from nltk.corpus import stopwords\n",
        "from sklearn.feature_extraction.text import TfidfVectorizer\n",
        "from sklearn import svm,preprocessing,metrics\n",
        "from nltk import word_tokenize\n",
        "from nltk.stem.isri import ISRIStemmer\n",
        "st = ISRIStemmer()\n",
        "nltk.download('stopwords')"
      ],
      "execution_count": null,
      "outputs": [
        {
          "output_type": "stream",
          "name": "stdout",
          "text": [
            "[nltk_data] Downloading package stopwords to /root/nltk_data...\n",
            "[nltk_data]   Package stopwords is already up-to-date!\n"
          ]
        },
        {
          "output_type": "execute_result",
          "data": {
            "text/plain": [
              "True"
            ]
          },
          "metadata": {},
          "execution_count": 97
        }
      ]
    },
    {
      "cell_type": "markdown",
      "metadata": {
        "id": "UpZmkwqmtEpE"
      },
      "source": [
        "# **Get the Data and Removing non necessarily columns**"
      ]
    },
    {
      "cell_type": "code",
      "metadata": {
        "id": "xhjVcT2jogkz"
      },
      "source": [
        "trainData = pd.read_csv(\"/content/drive/MyDrive/ArSarcasm_train.csv\")\n",
        "testData = pd.read_csv(\"/content/drive/MyDrive/ArSarcasm_test.csv\")"
      ],
      "execution_count": null,
      "outputs": []
    },
    {
      "cell_type": "code",
      "metadata": {
        "colab": {
          "base_uri": "https://localhost:8080/"
        },
        "id": "eb0NZAVkRBbp",
        "outputId": "bdf2b24a-6c28-4a96-be7f-ebec54869516"
      },
      "source": [
        "print(\"Number Of All Tweets:\",trainData.shape[0]+testData.shape[0])\n",
        "print(\"Number Of Train Tweets:\",trainData.shape[0])\n",
        "print(\"Number Of Test Tweets:\",testData.shape[0])"
      ],
      "execution_count": null,
      "outputs": [
        {
          "output_type": "stream",
          "name": "stdout",
          "text": [
            "Number Of All Tweets: 10547\n",
            "Number Of Train Tweets: 8437\n",
            "Number Of Test Tweets: 2110\n"
          ]
        }
      ]
    },
    {
      "cell_type": "code",
      "metadata": {
        "colab": {
          "base_uri": "https://localhost:8080/",
          "height": 206
        },
        "id": "akpapYpqxmUH",
        "outputId": "df9fc90a-801e-48d3-e67a-6ad02cf7ddcc"
      },
      "source": [
        "trainData.head()"
      ],
      "execution_count": null,
      "outputs": [
        {
          "output_type": "execute_result",
          "data": {
            "text/html": [
              "\n",
              "  <div id=\"df-4459036c-1709-415d-a2d5-142a7044457f\">\n",
              "    <div class=\"colab-df-container\">\n",
              "      <div>\n",
              "<style scoped>\n",
              "    .dataframe tbody tr th:only-of-type {\n",
              "        vertical-align: middle;\n",
              "    }\n",
              "\n",
              "    .dataframe tbody tr th {\n",
              "        vertical-align: top;\n",
              "    }\n",
              "\n",
              "    .dataframe thead th {\n",
              "        text-align: right;\n",
              "    }\n",
              "</style>\n",
              "<table border=\"1\" class=\"dataframe\">\n",
              "  <thead>\n",
              "    <tr style=\"text-align: right;\">\n",
              "      <th></th>\n",
              "      <th>dialect</th>\n",
              "      <th>sarcasm</th>\n",
              "      <th>sentiment</th>\n",
              "      <th>original_sentiment</th>\n",
              "      <th>tweet</th>\n",
              "      <th>source</th>\n",
              "    </tr>\n",
              "  </thead>\n",
              "  <tbody>\n",
              "    <tr>\n",
              "      <th>0</th>\n",
              "      <td>gulf</td>\n",
              "      <td>False</td>\n",
              "      <td>negative</td>\n",
              "      <td>negative</td>\n",
              "      <td>\"نصيحه ما عمرك اتنزل لعبة سوبر ماريو مش زي ما ...</td>\n",
              "      <td>semeval</td>\n",
              "    </tr>\n",
              "    <tr>\n",
              "      <th>1</th>\n",
              "      <td>msa</td>\n",
              "      <td>False</td>\n",
              "      <td>neutral</td>\n",
              "      <td>positive</td>\n",
              "      <td>\"#نادين_نسيب_نجيم ❤️❤️❤️مجلة #ماري_كلير 💭#ملكة...</td>\n",
              "      <td>semeval</td>\n",
              "    </tr>\n",
              "    <tr>\n",
              "      <th>2</th>\n",
              "      <td>egypt</td>\n",
              "      <td>False</td>\n",
              "      <td>neutral</td>\n",
              "      <td>neutral</td>\n",
              "      <td>\"@Alito_NBA اتوقع انه بيستمر\"</td>\n",
              "      <td>semeval</td>\n",
              "    </tr>\n",
              "    <tr>\n",
              "      <th>3</th>\n",
              "      <td>levant</td>\n",
              "      <td>True</td>\n",
              "      <td>neutral</td>\n",
              "      <td>negative</td>\n",
              "      <td>\"@KSA24 يعني \"بموافقتنا\" لأن دمشق صايرة موسكو\"</td>\n",
              "      <td>semeval</td>\n",
              "    </tr>\n",
              "    <tr>\n",
              "      <th>4</th>\n",
              "      <td>msa</td>\n",
              "      <td>False</td>\n",
              "      <td>neutral</td>\n",
              "      <td>negative</td>\n",
              "      <td>\"RT @alaahmad20: قائد في الحرس يعترف بفقدان ال...</td>\n",
              "      <td>semeval</td>\n",
              "    </tr>\n",
              "  </tbody>\n",
              "</table>\n",
              "</div>\n",
              "      <button class=\"colab-df-convert\" onclick=\"convertToInteractive('df-4459036c-1709-415d-a2d5-142a7044457f')\"\n",
              "              title=\"Convert this dataframe to an interactive table.\"\n",
              "              style=\"display:none;\">\n",
              "        \n",
              "  <svg xmlns=\"http://www.w3.org/2000/svg\" height=\"24px\"viewBox=\"0 0 24 24\"\n",
              "       width=\"24px\">\n",
              "    <path d=\"M0 0h24v24H0V0z\" fill=\"none\"/>\n",
              "    <path d=\"M18.56 5.44l.94 2.06.94-2.06 2.06-.94-2.06-.94-.94-2.06-.94 2.06-2.06.94zm-11 1L8.5 8.5l.94-2.06 2.06-.94-2.06-.94L8.5 2.5l-.94 2.06-2.06.94zm10 10l.94 2.06.94-2.06 2.06-.94-2.06-.94-.94-2.06-.94 2.06-2.06.94z\"/><path d=\"M17.41 7.96l-1.37-1.37c-.4-.4-.92-.59-1.43-.59-.52 0-1.04.2-1.43.59L10.3 9.45l-7.72 7.72c-.78.78-.78 2.05 0 2.83L4 21.41c.39.39.9.59 1.41.59.51 0 1.02-.2 1.41-.59l7.78-7.78 2.81-2.81c.8-.78.8-2.07 0-2.86zM5.41 20L4 18.59l7.72-7.72 1.47 1.35L5.41 20z\"/>\n",
              "  </svg>\n",
              "      </button>\n",
              "      \n",
              "  <style>\n",
              "    .colab-df-container {\n",
              "      display:flex;\n",
              "      flex-wrap:wrap;\n",
              "      gap: 12px;\n",
              "    }\n",
              "\n",
              "    .colab-df-convert {\n",
              "      background-color: #E8F0FE;\n",
              "      border: none;\n",
              "      border-radius: 50%;\n",
              "      cursor: pointer;\n",
              "      display: none;\n",
              "      fill: #1967D2;\n",
              "      height: 32px;\n",
              "      padding: 0 0 0 0;\n",
              "      width: 32px;\n",
              "    }\n",
              "\n",
              "    .colab-df-convert:hover {\n",
              "      background-color: #E2EBFA;\n",
              "      box-shadow: 0px 1px 2px rgba(60, 64, 67, 0.3), 0px 1px 3px 1px rgba(60, 64, 67, 0.15);\n",
              "      fill: #174EA6;\n",
              "    }\n",
              "\n",
              "    [theme=dark] .colab-df-convert {\n",
              "      background-color: #3B4455;\n",
              "      fill: #D2E3FC;\n",
              "    }\n",
              "\n",
              "    [theme=dark] .colab-df-convert:hover {\n",
              "      background-color: #434B5C;\n",
              "      box-shadow: 0px 1px 3px 1px rgba(0, 0, 0, 0.15);\n",
              "      filter: drop-shadow(0px 1px 2px rgba(0, 0, 0, 0.3));\n",
              "      fill: #FFFFFF;\n",
              "    }\n",
              "  </style>\n",
              "\n",
              "      <script>\n",
              "        const buttonEl =\n",
              "          document.querySelector('#df-4459036c-1709-415d-a2d5-142a7044457f button.colab-df-convert');\n",
              "        buttonEl.style.display =\n",
              "          google.colab.kernel.accessAllowed ? 'block' : 'none';\n",
              "\n",
              "        async function convertToInteractive(key) {\n",
              "          const element = document.querySelector('#df-4459036c-1709-415d-a2d5-142a7044457f');\n",
              "          const dataTable =\n",
              "            await google.colab.kernel.invokeFunction('convertToInteractive',\n",
              "                                                     [key], {});\n",
              "          if (!dataTable) return;\n",
              "\n",
              "          const docLinkHtml = 'Like what you see? Visit the ' +\n",
              "            '<a target=\"_blank\" href=https://colab.research.google.com/notebooks/data_table.ipynb>data table notebook</a>'\n",
              "            + ' to learn more about interactive tables.';\n",
              "          element.innerHTML = '';\n",
              "          dataTable['output_type'] = 'display_data';\n",
              "          await google.colab.output.renderOutput(dataTable, element);\n",
              "          const docLink = document.createElement('div');\n",
              "          docLink.innerHTML = docLinkHtml;\n",
              "          element.appendChild(docLink);\n",
              "        }\n",
              "      </script>\n",
              "    </div>\n",
              "  </div>\n",
              "  "
            ],
            "text/plain": [
              "  dialect  sarcasm  ...                                              tweet   source\n",
              "0    gulf    False  ...  \"نصيحه ما عمرك اتنزل لعبة سوبر ماريو مش زي ما ...  semeval\n",
              "1     msa    False  ...  \"#نادين_نسيب_نجيم ❤️❤️❤️مجلة #ماري_كلير 💭#ملكة...  semeval\n",
              "2   egypt    False  ...                      \"@Alito_NBA اتوقع انه بيستمر\"  semeval\n",
              "3  levant     True  ...     \"@KSA24 يعني \"بموافقتنا\" لأن دمشق صايرة موسكو\"  semeval\n",
              "4     msa    False  ...  \"RT @alaahmad20: قائد في الحرس يعترف بفقدان ال...  semeval\n",
              "\n",
              "[5 rows x 6 columns]"
            ]
          },
          "metadata": {},
          "execution_count": 100
        }
      ]
    },
    {
      "cell_type": "code",
      "metadata": {
        "colab": {
          "base_uri": "https://localhost:8080/",
          "height": 206
        },
        "id": "lRyM0hk0xm17",
        "outputId": "9beb51f9-1907-4b5f-d8b5-51a2f2a8ed09"
      },
      "source": [
        "testData.head()"
      ],
      "execution_count": null,
      "outputs": [
        {
          "output_type": "execute_result",
          "data": {
            "text/html": [
              "\n",
              "  <div id=\"df-a79c5152-963b-4f28-9c14-76996635328e\">\n",
              "    <div class=\"colab-df-container\">\n",
              "      <div>\n",
              "<style scoped>\n",
              "    .dataframe tbody tr th:only-of-type {\n",
              "        vertical-align: middle;\n",
              "    }\n",
              "\n",
              "    .dataframe tbody tr th {\n",
              "        vertical-align: top;\n",
              "    }\n",
              "\n",
              "    .dataframe thead th {\n",
              "        text-align: right;\n",
              "    }\n",
              "</style>\n",
              "<table border=\"1\" class=\"dataframe\">\n",
              "  <thead>\n",
              "    <tr style=\"text-align: right;\">\n",
              "      <th></th>\n",
              "      <th>dialect</th>\n",
              "      <th>sarcasm</th>\n",
              "      <th>sentiment</th>\n",
              "      <th>original_sentiment</th>\n",
              "      <th>tweet</th>\n",
              "      <th>source</th>\n",
              "    </tr>\n",
              "  </thead>\n",
              "  <tbody>\n",
              "    <tr>\n",
              "      <th>0</th>\n",
              "      <td>msa</td>\n",
              "      <td>True</td>\n",
              "      <td>negative</td>\n",
              "      <td>negative</td>\n",
              "      <td>\"@AbuEmad74241481 @Cesars2014 هههههه حزب الله ...</td>\n",
              "      <td>semeval</td>\n",
              "    </tr>\n",
              "    <tr>\n",
              "      <th>1</th>\n",
              "      <td>gulf</td>\n",
              "      <td>False</td>\n",
              "      <td>positive</td>\n",
              "      <td>neutral</td>\n",
              "      <td>\"RT @JannetForster: البنات اللي م صامو بقولكم ...</td>\n",
              "      <td>semeval</td>\n",
              "    </tr>\n",
              "    <tr>\n",
              "      <th>2</th>\n",
              "      <td>msa</td>\n",
              "      <td>True</td>\n",
              "      <td>neutral</td>\n",
              "      <td>neutral</td>\n",
              "      <td>اشارة رابعة اشبه بنار تحرق الانقلابيين</td>\n",
              "      <td>astd</td>\n",
              "    </tr>\n",
              "    <tr>\n",
              "      <th>3</th>\n",
              "      <td>msa</td>\n",
              "      <td>False</td>\n",
              "      <td>neutral</td>\n",
              "      <td>neutral</td>\n",
              "      <td>\"@EGYPTAIR ماهي مميزات درجه بزنس علماً اني في ...</td>\n",
              "      <td>semeval</td>\n",
              "    </tr>\n",
              "    <tr>\n",
              "      <th>4</th>\n",
              "      <td>msa</td>\n",
              "      <td>False</td>\n",
              "      <td>neutral</td>\n",
              "      <td>neutral</td>\n",
              "      <td>ما لا تراه على التلفاز منافسة شديدة بين المرشح...</td>\n",
              "      <td>semeval</td>\n",
              "    </tr>\n",
              "  </tbody>\n",
              "</table>\n",
              "</div>\n",
              "      <button class=\"colab-df-convert\" onclick=\"convertToInteractive('df-a79c5152-963b-4f28-9c14-76996635328e')\"\n",
              "              title=\"Convert this dataframe to an interactive table.\"\n",
              "              style=\"display:none;\">\n",
              "        \n",
              "  <svg xmlns=\"http://www.w3.org/2000/svg\" height=\"24px\"viewBox=\"0 0 24 24\"\n",
              "       width=\"24px\">\n",
              "    <path d=\"M0 0h24v24H0V0z\" fill=\"none\"/>\n",
              "    <path d=\"M18.56 5.44l.94 2.06.94-2.06 2.06-.94-2.06-.94-.94-2.06-.94 2.06-2.06.94zm-11 1L8.5 8.5l.94-2.06 2.06-.94-2.06-.94L8.5 2.5l-.94 2.06-2.06.94zm10 10l.94 2.06.94-2.06 2.06-.94-2.06-.94-.94-2.06-.94 2.06-2.06.94z\"/><path d=\"M17.41 7.96l-1.37-1.37c-.4-.4-.92-.59-1.43-.59-.52 0-1.04.2-1.43.59L10.3 9.45l-7.72 7.72c-.78.78-.78 2.05 0 2.83L4 21.41c.39.39.9.59 1.41.59.51 0 1.02-.2 1.41-.59l7.78-7.78 2.81-2.81c.8-.78.8-2.07 0-2.86zM5.41 20L4 18.59l7.72-7.72 1.47 1.35L5.41 20z\"/>\n",
              "  </svg>\n",
              "      </button>\n",
              "      \n",
              "  <style>\n",
              "    .colab-df-container {\n",
              "      display:flex;\n",
              "      flex-wrap:wrap;\n",
              "      gap: 12px;\n",
              "    }\n",
              "\n",
              "    .colab-df-convert {\n",
              "      background-color: #E8F0FE;\n",
              "      border: none;\n",
              "      border-radius: 50%;\n",
              "      cursor: pointer;\n",
              "      display: none;\n",
              "      fill: #1967D2;\n",
              "      height: 32px;\n",
              "      padding: 0 0 0 0;\n",
              "      width: 32px;\n",
              "    }\n",
              "\n",
              "    .colab-df-convert:hover {\n",
              "      background-color: #E2EBFA;\n",
              "      box-shadow: 0px 1px 2px rgba(60, 64, 67, 0.3), 0px 1px 3px 1px rgba(60, 64, 67, 0.15);\n",
              "      fill: #174EA6;\n",
              "    }\n",
              "\n",
              "    [theme=dark] .colab-df-convert {\n",
              "      background-color: #3B4455;\n",
              "      fill: #D2E3FC;\n",
              "    }\n",
              "\n",
              "    [theme=dark] .colab-df-convert:hover {\n",
              "      background-color: #434B5C;\n",
              "      box-shadow: 0px 1px 3px 1px rgba(0, 0, 0, 0.15);\n",
              "      filter: drop-shadow(0px 1px 2px rgba(0, 0, 0, 0.3));\n",
              "      fill: #FFFFFF;\n",
              "    }\n",
              "  </style>\n",
              "\n",
              "      <script>\n",
              "        const buttonEl =\n",
              "          document.querySelector('#df-a79c5152-963b-4f28-9c14-76996635328e button.colab-df-convert');\n",
              "        buttonEl.style.display =\n",
              "          google.colab.kernel.accessAllowed ? 'block' : 'none';\n",
              "\n",
              "        async function convertToInteractive(key) {\n",
              "          const element = document.querySelector('#df-a79c5152-963b-4f28-9c14-76996635328e');\n",
              "          const dataTable =\n",
              "            await google.colab.kernel.invokeFunction('convertToInteractive',\n",
              "                                                     [key], {});\n",
              "          if (!dataTable) return;\n",
              "\n",
              "          const docLinkHtml = 'Like what you see? Visit the ' +\n",
              "            '<a target=\"_blank\" href=https://colab.research.google.com/notebooks/data_table.ipynb>data table notebook</a>'\n",
              "            + ' to learn more about interactive tables.';\n",
              "          element.innerHTML = '';\n",
              "          dataTable['output_type'] = 'display_data';\n",
              "          await google.colab.output.renderOutput(dataTable, element);\n",
              "          const docLink = document.createElement('div');\n",
              "          docLink.innerHTML = docLinkHtml;\n",
              "          element.appendChild(docLink);\n",
              "        }\n",
              "      </script>\n",
              "    </div>\n",
              "  </div>\n",
              "  "
            ],
            "text/plain": [
              "  dialect  sarcasm  ...                                              tweet   source\n",
              "0     msa     True  ...  \"@AbuEmad74241481 @Cesars2014 هههههه حزب الله ...  semeval\n",
              "1    gulf    False  ...  \"RT @JannetForster: البنات اللي م صامو بقولكم ...  semeval\n",
              "2     msa     True  ...             اشارة رابعة اشبه بنار تحرق الانقلابيين     astd\n",
              "3     msa    False  ...  \"@EGYPTAIR ماهي مميزات درجه بزنس علماً اني في ...  semeval\n",
              "4     msa    False  ...  ما لا تراه على التلفاز منافسة شديدة بين المرشح...  semeval\n",
              "\n",
              "[5 rows x 6 columns]"
            ]
          },
          "metadata": {},
          "execution_count": 101
        }
      ]
    },
    {
      "cell_type": "code",
      "metadata": {
        "id": "InY9v3w0pBWC"
      },
      "source": [
        "dropCols = [\"original_sentiment\",\"source\"]\n",
        "trainData.drop(dropCols,axis=1,inplace=True)\n",
        "testData.drop(dropCols,axis=1,inplace=True)"
      ],
      "execution_count": null,
      "outputs": []
    },
    {
      "cell_type": "code",
      "metadata": {
        "colab": {
          "base_uri": "https://localhost:8080/",
          "height": 206
        },
        "id": "NpCf7jQkxqSC",
        "outputId": "2e894423-7b07-4385-ce25-c5d7b027b644"
      },
      "source": [
        "trainData.head()"
      ],
      "execution_count": null,
      "outputs": [
        {
          "output_type": "execute_result",
          "data": {
            "text/html": [
              "\n",
              "  <div id=\"df-7a780d34-d32b-43c9-aaeb-9d237db1bca0\">\n",
              "    <div class=\"colab-df-container\">\n",
              "      <div>\n",
              "<style scoped>\n",
              "    .dataframe tbody tr th:only-of-type {\n",
              "        vertical-align: middle;\n",
              "    }\n",
              "\n",
              "    .dataframe tbody tr th {\n",
              "        vertical-align: top;\n",
              "    }\n",
              "\n",
              "    .dataframe thead th {\n",
              "        text-align: right;\n",
              "    }\n",
              "</style>\n",
              "<table border=\"1\" class=\"dataframe\">\n",
              "  <thead>\n",
              "    <tr style=\"text-align: right;\">\n",
              "      <th></th>\n",
              "      <th>dialect</th>\n",
              "      <th>sarcasm</th>\n",
              "      <th>sentiment</th>\n",
              "      <th>tweet</th>\n",
              "    </tr>\n",
              "  </thead>\n",
              "  <tbody>\n",
              "    <tr>\n",
              "      <th>0</th>\n",
              "      <td>gulf</td>\n",
              "      <td>False</td>\n",
              "      <td>negative</td>\n",
              "      <td>\"نصيحه ما عمرك اتنزل لعبة سوبر ماريو مش زي ما ...</td>\n",
              "    </tr>\n",
              "    <tr>\n",
              "      <th>1</th>\n",
              "      <td>msa</td>\n",
              "      <td>False</td>\n",
              "      <td>neutral</td>\n",
              "      <td>\"#نادين_نسيب_نجيم ❤️❤️❤️مجلة #ماري_كلير 💭#ملكة...</td>\n",
              "    </tr>\n",
              "    <tr>\n",
              "      <th>2</th>\n",
              "      <td>egypt</td>\n",
              "      <td>False</td>\n",
              "      <td>neutral</td>\n",
              "      <td>\"@Alito_NBA اتوقع انه بيستمر\"</td>\n",
              "    </tr>\n",
              "    <tr>\n",
              "      <th>3</th>\n",
              "      <td>levant</td>\n",
              "      <td>True</td>\n",
              "      <td>neutral</td>\n",
              "      <td>\"@KSA24 يعني \"بموافقتنا\" لأن دمشق صايرة موسكو\"</td>\n",
              "    </tr>\n",
              "    <tr>\n",
              "      <th>4</th>\n",
              "      <td>msa</td>\n",
              "      <td>False</td>\n",
              "      <td>neutral</td>\n",
              "      <td>\"RT @alaahmad20: قائد في الحرس يعترف بفقدان ال...</td>\n",
              "    </tr>\n",
              "  </tbody>\n",
              "</table>\n",
              "</div>\n",
              "      <button class=\"colab-df-convert\" onclick=\"convertToInteractive('df-7a780d34-d32b-43c9-aaeb-9d237db1bca0')\"\n",
              "              title=\"Convert this dataframe to an interactive table.\"\n",
              "              style=\"display:none;\">\n",
              "        \n",
              "  <svg xmlns=\"http://www.w3.org/2000/svg\" height=\"24px\"viewBox=\"0 0 24 24\"\n",
              "       width=\"24px\">\n",
              "    <path d=\"M0 0h24v24H0V0z\" fill=\"none\"/>\n",
              "    <path d=\"M18.56 5.44l.94 2.06.94-2.06 2.06-.94-2.06-.94-.94-2.06-.94 2.06-2.06.94zm-11 1L8.5 8.5l.94-2.06 2.06-.94-2.06-.94L8.5 2.5l-.94 2.06-2.06.94zm10 10l.94 2.06.94-2.06 2.06-.94-2.06-.94-.94-2.06-.94 2.06-2.06.94z\"/><path d=\"M17.41 7.96l-1.37-1.37c-.4-.4-.92-.59-1.43-.59-.52 0-1.04.2-1.43.59L10.3 9.45l-7.72 7.72c-.78.78-.78 2.05 0 2.83L4 21.41c.39.39.9.59 1.41.59.51 0 1.02-.2 1.41-.59l7.78-7.78 2.81-2.81c.8-.78.8-2.07 0-2.86zM5.41 20L4 18.59l7.72-7.72 1.47 1.35L5.41 20z\"/>\n",
              "  </svg>\n",
              "      </button>\n",
              "      \n",
              "  <style>\n",
              "    .colab-df-container {\n",
              "      display:flex;\n",
              "      flex-wrap:wrap;\n",
              "      gap: 12px;\n",
              "    }\n",
              "\n",
              "    .colab-df-convert {\n",
              "      background-color: #E8F0FE;\n",
              "      border: none;\n",
              "      border-radius: 50%;\n",
              "      cursor: pointer;\n",
              "      display: none;\n",
              "      fill: #1967D2;\n",
              "      height: 32px;\n",
              "      padding: 0 0 0 0;\n",
              "      width: 32px;\n",
              "    }\n",
              "\n",
              "    .colab-df-convert:hover {\n",
              "      background-color: #E2EBFA;\n",
              "      box-shadow: 0px 1px 2px rgba(60, 64, 67, 0.3), 0px 1px 3px 1px rgba(60, 64, 67, 0.15);\n",
              "      fill: #174EA6;\n",
              "    }\n",
              "\n",
              "    [theme=dark] .colab-df-convert {\n",
              "      background-color: #3B4455;\n",
              "      fill: #D2E3FC;\n",
              "    }\n",
              "\n",
              "    [theme=dark] .colab-df-convert:hover {\n",
              "      background-color: #434B5C;\n",
              "      box-shadow: 0px 1px 3px 1px rgba(0, 0, 0, 0.15);\n",
              "      filter: drop-shadow(0px 1px 2px rgba(0, 0, 0, 0.3));\n",
              "      fill: #FFFFFF;\n",
              "    }\n",
              "  </style>\n",
              "\n",
              "      <script>\n",
              "        const buttonEl =\n",
              "          document.querySelector('#df-7a780d34-d32b-43c9-aaeb-9d237db1bca0 button.colab-df-convert');\n",
              "        buttonEl.style.display =\n",
              "          google.colab.kernel.accessAllowed ? 'block' : 'none';\n",
              "\n",
              "        async function convertToInteractive(key) {\n",
              "          const element = document.querySelector('#df-7a780d34-d32b-43c9-aaeb-9d237db1bca0');\n",
              "          const dataTable =\n",
              "            await google.colab.kernel.invokeFunction('convertToInteractive',\n",
              "                                                     [key], {});\n",
              "          if (!dataTable) return;\n",
              "\n",
              "          const docLinkHtml = 'Like what you see? Visit the ' +\n",
              "            '<a target=\"_blank\" href=https://colab.research.google.com/notebooks/data_table.ipynb>data table notebook</a>'\n",
              "            + ' to learn more about interactive tables.';\n",
              "          element.innerHTML = '';\n",
              "          dataTable['output_type'] = 'display_data';\n",
              "          await google.colab.output.renderOutput(dataTable, element);\n",
              "          const docLink = document.createElement('div');\n",
              "          docLink.innerHTML = docLinkHtml;\n",
              "          element.appendChild(docLink);\n",
              "        }\n",
              "      </script>\n",
              "    </div>\n",
              "  </div>\n",
              "  "
            ],
            "text/plain": [
              "  dialect  sarcasm sentiment                                              tweet\n",
              "0    gulf    False  negative  \"نصيحه ما عمرك اتنزل لعبة سوبر ماريو مش زي ما ...\n",
              "1     msa    False   neutral  \"#نادين_نسيب_نجيم ❤️❤️❤️مجلة #ماري_كلير 💭#ملكة...\n",
              "2   egypt    False   neutral                      \"@Alito_NBA اتوقع انه بيستمر\"\n",
              "3  levant     True   neutral     \"@KSA24 يعني \"بموافقتنا\" لأن دمشق صايرة موسكو\"\n",
              "4     msa    False   neutral  \"RT @alaahmad20: قائد في الحرس يعترف بفقدان ال..."
            ]
          },
          "metadata": {},
          "execution_count": 103
        }
      ]
    },
    {
      "cell_type": "code",
      "metadata": {
        "colab": {
          "base_uri": "https://localhost:8080/",
          "height": 206
        },
        "id": "wKmKN29kxztq",
        "outputId": "ac6db90d-bc59-4d1a-b926-f519679061e0"
      },
      "source": [
        "testData.head()"
      ],
      "execution_count": null,
      "outputs": [
        {
          "output_type": "execute_result",
          "data": {
            "text/html": [
              "\n",
              "  <div id=\"df-705c7aae-198c-45bb-9d9c-5b06c5810e56\">\n",
              "    <div class=\"colab-df-container\">\n",
              "      <div>\n",
              "<style scoped>\n",
              "    .dataframe tbody tr th:only-of-type {\n",
              "        vertical-align: middle;\n",
              "    }\n",
              "\n",
              "    .dataframe tbody tr th {\n",
              "        vertical-align: top;\n",
              "    }\n",
              "\n",
              "    .dataframe thead th {\n",
              "        text-align: right;\n",
              "    }\n",
              "</style>\n",
              "<table border=\"1\" class=\"dataframe\">\n",
              "  <thead>\n",
              "    <tr style=\"text-align: right;\">\n",
              "      <th></th>\n",
              "      <th>dialect</th>\n",
              "      <th>sarcasm</th>\n",
              "      <th>sentiment</th>\n",
              "      <th>tweet</th>\n",
              "    </tr>\n",
              "  </thead>\n",
              "  <tbody>\n",
              "    <tr>\n",
              "      <th>0</th>\n",
              "      <td>msa</td>\n",
              "      <td>True</td>\n",
              "      <td>negative</td>\n",
              "      <td>\"@AbuEmad74241481 @Cesars2014 هههههه حزب الله ...</td>\n",
              "    </tr>\n",
              "    <tr>\n",
              "      <th>1</th>\n",
              "      <td>gulf</td>\n",
              "      <td>False</td>\n",
              "      <td>positive</td>\n",
              "      <td>\"RT @JannetForster: البنات اللي م صامو بقولكم ...</td>\n",
              "    </tr>\n",
              "    <tr>\n",
              "      <th>2</th>\n",
              "      <td>msa</td>\n",
              "      <td>True</td>\n",
              "      <td>neutral</td>\n",
              "      <td>اشارة رابعة اشبه بنار تحرق الانقلابيين</td>\n",
              "    </tr>\n",
              "    <tr>\n",
              "      <th>3</th>\n",
              "      <td>msa</td>\n",
              "      <td>False</td>\n",
              "      <td>neutral</td>\n",
              "      <td>\"@EGYPTAIR ماهي مميزات درجه بزنس علماً اني في ...</td>\n",
              "    </tr>\n",
              "    <tr>\n",
              "      <th>4</th>\n",
              "      <td>msa</td>\n",
              "      <td>False</td>\n",
              "      <td>neutral</td>\n",
              "      <td>ما لا تراه على التلفاز منافسة شديدة بين المرشح...</td>\n",
              "    </tr>\n",
              "  </tbody>\n",
              "</table>\n",
              "</div>\n",
              "      <button class=\"colab-df-convert\" onclick=\"convertToInteractive('df-705c7aae-198c-45bb-9d9c-5b06c5810e56')\"\n",
              "              title=\"Convert this dataframe to an interactive table.\"\n",
              "              style=\"display:none;\">\n",
              "        \n",
              "  <svg xmlns=\"http://www.w3.org/2000/svg\" height=\"24px\"viewBox=\"0 0 24 24\"\n",
              "       width=\"24px\">\n",
              "    <path d=\"M0 0h24v24H0V0z\" fill=\"none\"/>\n",
              "    <path d=\"M18.56 5.44l.94 2.06.94-2.06 2.06-.94-2.06-.94-.94-2.06-.94 2.06-2.06.94zm-11 1L8.5 8.5l.94-2.06 2.06-.94-2.06-.94L8.5 2.5l-.94 2.06-2.06.94zm10 10l.94 2.06.94-2.06 2.06-.94-2.06-.94-.94-2.06-.94 2.06-2.06.94z\"/><path d=\"M17.41 7.96l-1.37-1.37c-.4-.4-.92-.59-1.43-.59-.52 0-1.04.2-1.43.59L10.3 9.45l-7.72 7.72c-.78.78-.78 2.05 0 2.83L4 21.41c.39.39.9.59 1.41.59.51 0 1.02-.2 1.41-.59l7.78-7.78 2.81-2.81c.8-.78.8-2.07 0-2.86zM5.41 20L4 18.59l7.72-7.72 1.47 1.35L5.41 20z\"/>\n",
              "  </svg>\n",
              "      </button>\n",
              "      \n",
              "  <style>\n",
              "    .colab-df-container {\n",
              "      display:flex;\n",
              "      flex-wrap:wrap;\n",
              "      gap: 12px;\n",
              "    }\n",
              "\n",
              "    .colab-df-convert {\n",
              "      background-color: #E8F0FE;\n",
              "      border: none;\n",
              "      border-radius: 50%;\n",
              "      cursor: pointer;\n",
              "      display: none;\n",
              "      fill: #1967D2;\n",
              "      height: 32px;\n",
              "      padding: 0 0 0 0;\n",
              "      width: 32px;\n",
              "    }\n",
              "\n",
              "    .colab-df-convert:hover {\n",
              "      background-color: #E2EBFA;\n",
              "      box-shadow: 0px 1px 2px rgba(60, 64, 67, 0.3), 0px 1px 3px 1px rgba(60, 64, 67, 0.15);\n",
              "      fill: #174EA6;\n",
              "    }\n",
              "\n",
              "    [theme=dark] .colab-df-convert {\n",
              "      background-color: #3B4455;\n",
              "      fill: #D2E3FC;\n",
              "    }\n",
              "\n",
              "    [theme=dark] .colab-df-convert:hover {\n",
              "      background-color: #434B5C;\n",
              "      box-shadow: 0px 1px 3px 1px rgba(0, 0, 0, 0.15);\n",
              "      filter: drop-shadow(0px 1px 2px rgba(0, 0, 0, 0.3));\n",
              "      fill: #FFFFFF;\n",
              "    }\n",
              "  </style>\n",
              "\n",
              "      <script>\n",
              "        const buttonEl =\n",
              "          document.querySelector('#df-705c7aae-198c-45bb-9d9c-5b06c5810e56 button.colab-df-convert');\n",
              "        buttonEl.style.display =\n",
              "          google.colab.kernel.accessAllowed ? 'block' : 'none';\n",
              "\n",
              "        async function convertToInteractive(key) {\n",
              "          const element = document.querySelector('#df-705c7aae-198c-45bb-9d9c-5b06c5810e56');\n",
              "          const dataTable =\n",
              "            await google.colab.kernel.invokeFunction('convertToInteractive',\n",
              "                                                     [key], {});\n",
              "          if (!dataTable) return;\n",
              "\n",
              "          const docLinkHtml = 'Like what you see? Visit the ' +\n",
              "            '<a target=\"_blank\" href=https://colab.research.google.com/notebooks/data_table.ipynb>data table notebook</a>'\n",
              "            + ' to learn more about interactive tables.';\n",
              "          element.innerHTML = '';\n",
              "          dataTable['output_type'] = 'display_data';\n",
              "          await google.colab.output.renderOutput(dataTable, element);\n",
              "          const docLink = document.createElement('div');\n",
              "          docLink.innerHTML = docLinkHtml;\n",
              "          element.appendChild(docLink);\n",
              "        }\n",
              "      </script>\n",
              "    </div>\n",
              "  </div>\n",
              "  "
            ],
            "text/plain": [
              "  dialect  sarcasm sentiment                                              tweet\n",
              "0     msa     True  negative  \"@AbuEmad74241481 @Cesars2014 هههههه حزب الله ...\n",
              "1    gulf    False  positive  \"RT @JannetForster: البنات اللي م صامو بقولكم ...\n",
              "2     msa     True   neutral             اشارة رابعة اشبه بنار تحرق الانقلابيين\n",
              "3     msa    False   neutral  \"@EGYPTAIR ماهي مميزات درجه بزنس علماً اني في ...\n",
              "4     msa    False   neutral  ما لا تراه على التلفاز منافسة شديدة بين المرشح..."
            ]
          },
          "metadata": {},
          "execution_count": 104
        }
      ]
    },
    {
      "cell_type": "markdown",
      "metadata": {
        "id": "qFEOQCQa79ua"
      },
      "source": [
        "# **Data Visualization**"
      ]
    },
    {
      "cell_type": "code",
      "metadata": {
        "colab": {
          "base_uri": "https://localhost:8080/",
          "height": 386
        },
        "id": "6hgELAnC8IJD",
        "outputId": "2e157f12-f10c-4609-bea9-a60017e33099"
      },
      "source": [
        "sns.countplot(x= \"sentiment\", data=trainData)\n",
        "plt.title(\"Visualization of Sentiment Column\")\n",
        "plt.show()\n",
        "print(trainData.value_counts(\"sentiment\"))"
      ],
      "execution_count": null,
      "outputs": [
        {
          "output_type": "display_data",
          "data": {
            "image/png": "[encoded data removed]",
            "text/plain": [
              "<Figure size 432x288 with 1 Axes>"
            ]
          },
          "metadata": {}
        },
        {
          "output_type": "stream",
          "name": "stdout",
          "text": [
            "sentiment\n",
            "neutral     4262\n",
            "negative    2813\n",
            "positive    1362\n",
            "dtype: int64\n"
          ]
        }
      ]
    },
    {
      "cell_type": "code",
      "metadata": {
        "colab": {
          "base_uri": "https://localhost:8080/",
          "height": 368
        },
        "id": "cnuD6AJA8JaT",
        "outputId": "eda77e61-926f-4d05-c638-c3ddc7ae37ed"
      },
      "source": [
        "sns.countplot(x= \"sarcasm\", data= trainData)\n",
        "plt.title(\"Visualization of Sarcasm Column\")\n",
        "plt.show()\n",
        "print(trainData.value_counts(\"sarcasm\"))"
      ],
      "execution_count": null,
      "outputs": [
        {
          "output_type": "display_data",
          "data": {
            "image/png": "[encoded data removed]",
            "text/plain": [
              "<Figure size 432x288 with 1 Axes>"
            ]
          },
          "metadata": {}
        },
        {
          "output_type": "stream",
          "name": "stdout",
          "text": [
            "sarcasm\n",
            "False    7100\n",
            "True     1337\n",
            "dtype: int64\n"
          ]
        }
      ]
    },
    {
      "cell_type": "code",
      "metadata": {
        "colab": {
          "base_uri": "https://localhost:8080/",
          "height": 421
        },
        "id": "d-IWvARP8Lyy",
        "outputId": "f162892a-2d15-4d53-abe2-c765d6ef2d07"
      },
      "source": [
        "sns.countplot(x= \"dialect\", data= trainData)\n",
        "plt.title(\"Visualization of Dialects Column\")\n",
        "print(trainData.value_counts(\"dialect\"))\n",
        "plt.show()"
      ],
      "execution_count": null,
      "outputs": [
        {
          "output_type": "stream",
          "name": "stdout",
          "text": [
            "dialect\n",
            "msa       5652\n",
            "egypt     1904\n",
            "levant     439\n",
            "gulf       414\n",
            "magreb      28\n",
            "dtype: int64\n"
          ]
        },
        {
          "output_type": "display_data",
          "data": {
            "image/png": "[encoded data removed]",
            "text/plain": [
              "<Figure size 432x288 with 1 Axes>"
            ]
          },
          "metadata": {}
        }
      ]
    },
    {
      "cell_type": "markdown",
      "metadata": {
        "id": "Purihu_ZsvbJ"
      },
      "source": [
        "# **Data Cleaning Pipeline**"
      ]
    },
    {
      "cell_type": "code",
      "metadata": {
        "id": "HBSRC3TZssOc"
      },
      "source": [
        "def clean(text):\n",
        "  #replace all usernames with مستخدم \n",
        "  text = re.sub(r'\\s*@([A-Za-z]*[0-9]*)(_*)([A-Za-z]*[0-9]*)\\s*', ' مستخدم ' , text)\n",
        "  #replace all urls with رابط\n",
        "  text = re.sub(r\"((www\\.[^\\s]+)|(https?://[^\\s]+))\", \" رابط \", text)\n",
        "  #remove all English chars \n",
        "  text = re.sub(r'\\s*[A-Za-z]\\s*', ' ' , text)\n",
        "  #remove hashtags\n",
        "  text = re.sub(\"#\", \" \", text)\n",
        "  #remove all numbers \n",
        "  text = re.sub(r'\\[0-9]*\\]',' ',text)\n",
        "  #remove duplicated chars\n",
        "  text = re.sub(r'(.)\\1+', r'\\1', text)\n",
        "  #remove :) or :(\n",
        "  text = text.replace(':)', \"\")\n",
        "  text = text.replace(':(', \"\")\n",
        "  #remove multiple exclamation\n",
        "  text = re.sub(r\"(\\!)\\1+\", ' ', text)\n",
        "  #remove multiple question marks\n",
        "  text = re.sub(r\"(\\?)\\1+\", ' ', text)\n",
        "  #remove multistop\n",
        "  text = re.sub(r\"(\\.)\\1+\", ' ', text)\n",
        "  #remove additional spaces\n",
        "  text = re.sub(r\"[\\s]+\", \" \", text)\n",
        "  text = re.sub(r\"[\\n]+\", \" \", text)\n",
        "\n",
        "  \n",
        "  return text"
      ],
      "execution_count": null,
      "outputs": []
    },
    {
      "cell_type": "code",
      "metadata": {
        "id": "_ITNl1_sSw5y"
      },
      "source": [
        "def cleanPipeline():\n",
        "  stopWordsList = stopwords.words('arabic')\n",
        "\n",
        "  trainData[\"tweet\"] = trainData[\"tweet\"].apply(lambda line: \" \".join(word for word in line.split() if word not in stopWordsList))\n",
        "  trainData[\"tweet\"] = trainData[\"tweet\"].apply(lambda x : clean(x))\n",
        "  trainData[\"tweet\"] = trainData['tweet'].str.replace('[{}]'.format(string.punctuation), ' ')\n",
        "  trainData[\"tweet\"]= trainData[\"tweet\"].apply(lambda line: \" \".join(st.stem(word) for word in line.split()))\n",
        "\n",
        "  testData[\"tweet\"] = testData[\"tweet\"].apply(lambda line: \" \".join(word for word in line.split() if word not in stopWordsList))\n",
        "  testData[\"tweet\"] = testData[\"tweet\"].apply(lambda x : clean(x))\n",
        "  testData[\"tweet\"] = testData['tweet'].str.replace('[{}]'.format(string.punctuation), ' ')\n",
        "  testData['tweet']= testData[\"tweet\"].apply(lambda line: \" \".join(st.stem(word) for word in line.split()))"
      ],
      "execution_count": null,
      "outputs": []
    },
    {
      "cell_type": "code",
      "metadata": {
        "id": "hjgaL7S9TScE"
      },
      "source": [
        "cleanPipeline()"
      ],
      "execution_count": null,
      "outputs": []
    },
    {
      "cell_type": "code",
      "metadata": {
        "id": "hfA1kSenyv_w",
        "colab": {
          "base_uri": "https://localhost:8080/",
          "height": 206
        },
        "outputId": "c1d9df56-9401-4c9c-dde1-42624876b478"
      },
      "source": [
        "trainData.head()"
      ],
      "execution_count": null,
      "outputs": [
        {
          "output_type": "execute_result",
          "data": {
            "text/html": [
              "\n",
              "  <div id=\"df-17b69602-7ce6-4325-a546-38673b7a64f1\">\n",
              "    <div class=\"colab-df-container\">\n",
              "      <div>\n",
              "<style scoped>\n",
              "    .dataframe tbody tr th:only-of-type {\n",
              "        vertical-align: middle;\n",
              "    }\n",
              "\n",
              "    .dataframe tbody tr th {\n",
              "        vertical-align: top;\n",
              "    }\n",
              "\n",
              "    .dataframe thead th {\n",
              "        text-align: right;\n",
              "    }\n",
              "</style>\n",
              "<table border=\"1\" class=\"dataframe\">\n",
              "  <thead>\n",
              "    <tr style=\"text-align: right;\">\n",
              "      <th></th>\n",
              "      <th>dialect</th>\n",
              "      <th>sarcasm</th>\n",
              "      <th>sentiment</th>\n",
              "      <th>tweet</th>\n",
              "    </tr>\n",
              "  </thead>\n",
              "  <tbody>\n",
              "    <tr>\n",
              "      <th>0</th>\n",
              "      <td>gulf</td>\n",
              "      <td>False</td>\n",
              "      <td>negative</td>\n",
              "      <td>نصح عمر نزل لعب وبر ارو مش زي كنا توقع اله رحم...</td>\n",
              "    </tr>\n",
              "    <tr>\n",
              "      <th>1</th>\n",
              "      <td>msa</td>\n",
              "      <td>False</td>\n",
              "      <td>neutral</td>\n",
              "      <td>ناد نسب نجم ❤️❤️❤️مجلة اري كلر 💭 لكة صحراء 👑 ر...</td>\n",
              "    </tr>\n",
              "    <tr>\n",
              "      <th>2</th>\n",
              "      <td>egypt</td>\n",
              "      <td>False</td>\n",
              "      <td>neutral</td>\n",
              "      <td>خدم وقع انه سمر</td>\n",
              "    </tr>\n",
              "    <tr>\n",
              "      <th>3</th>\n",
              "      <td>levant</td>\n",
              "      <td>True</td>\n",
              "      <td>neutral</td>\n",
              "      <td>خدم يعن وفق لأن دمشق صير وسكو</td>\n",
              "    </tr>\n",
              "    <tr>\n",
              "      <th>4</th>\n",
              "      <td>msa</td>\n",
              "      <td>False</td>\n",
              "      <td>neutral</td>\n",
              "      <td>خدم قئد حرس عرف فقد يطر مني شرق غرب اير حوز حو...</td>\n",
              "    </tr>\n",
              "  </tbody>\n",
              "</table>\n",
              "</div>\n",
              "      <button class=\"colab-df-convert\" onclick=\"convertToInteractive('df-17b69602-7ce6-4325-a546-38673b7a64f1')\"\n",
              "              title=\"Convert this dataframe to an interactive table.\"\n",
              "              style=\"display:none;\">\n",
              "        \n",
              "  <svg xmlns=\"http://www.w3.org/2000/svg\" height=\"24px\"viewBox=\"0 0 24 24\"\n",
              "       width=\"24px\">\n",
              "    <path d=\"M0 0h24v24H0V0z\" fill=\"none\"/>\n",
              "    <path d=\"M18.56 5.44l.94 2.06.94-2.06 2.06-.94-2.06-.94-.94-2.06-.94 2.06-2.06.94zm-11 1L8.5 8.5l.94-2.06 2.06-.94-2.06-.94L8.5 2.5l-.94 2.06-2.06.94zm10 10l.94 2.06.94-2.06 2.06-.94-2.06-.94-.94-2.06-.94 2.06-2.06.94z\"/><path d=\"M17.41 7.96l-1.37-1.37c-.4-.4-.92-.59-1.43-.59-.52 0-1.04.2-1.43.59L10.3 9.45l-7.72 7.72c-.78.78-.78 2.05 0 2.83L4 21.41c.39.39.9.59 1.41.59.51 0 1.02-.2 1.41-.59l7.78-7.78 2.81-2.81c.8-.78.8-2.07 0-2.86zM5.41 20L4 18.59l7.72-7.72 1.47 1.35L5.41 20z\"/>\n",
              "  </svg>\n",
              "      </button>\n",
              "      \n",
              "  <style>\n",
              "    .colab-df-container {\n",
              "      display:flex;\n",
              "      flex-wrap:wrap;\n",
              "      gap: 12px;\n",
              "    }\n",
              "\n",
              "    .colab-df-convert {\n",
              "      background-color: #E8F0FE;\n",
              "      border: none;\n",
              "      border-radius: 50%;\n",
              "      cursor: pointer;\n",
              "      display: none;\n",
              "      fill: #1967D2;\n",
              "      height: 32px;\n",
              "      padding: 0 0 0 0;\n",
              "      width: 32px;\n",
              "    }\n",
              "\n",
              "    .colab-df-convert:hover {\n",
              "      background-color: #E2EBFA;\n",
              "      box-shadow: 0px 1px 2px rgba(60, 64, 67, 0.3), 0px 1px 3px 1px rgba(60, 64, 67, 0.15);\n",
              "      fill: #174EA6;\n",
              "    }\n",
              "\n",
              "    [theme=dark] .colab-df-convert {\n",
              "      background-color: #3B4455;\n",
              "      fill: #D2E3FC;\n",
              "    }\n",
              "\n",
              "    [theme=dark] .colab-df-convert:hover {\n",
              "      background-color: #434B5C;\n",
              "      box-shadow: 0px 1px 3px 1px rgba(0, 0, 0, 0.15);\n",
              "      filter: drop-shadow(0px 1px 2px rgba(0, 0, 0, 0.3));\n",
              "      fill: #FFFFFF;\n",
              "    }\n",
              "  </style>\n",
              "\n",
              "      <script>\n",
              "        const buttonEl =\n",
              "          document.querySelector('#df-17b69602-7ce6-4325-a546-38673b7a64f1 button.colab-df-convert');\n",
              "        buttonEl.style.display =\n",
              "          google.colab.kernel.accessAllowed ? 'block' : 'none';\n",
              "\n",
              "        async function convertToInteractive(key) {\n",
              "          const element = document.querySelector('#df-17b69602-7ce6-4325-a546-38673b7a64f1');\n",
              "          const dataTable =\n",
              "            await google.colab.kernel.invokeFunction('convertToInteractive',\n",
              "                                                     [key], {});\n",
              "          if (!dataTable) return;\n",
              "\n",
              "          const docLinkHtml = 'Like what you see? Visit the ' +\n",
              "            '<a target=\"_blank\" href=https://colab.research.google.com/notebooks/data_table.ipynb>data table notebook</a>'\n",
              "            + ' to learn more about interactive tables.';\n",
              "          element.innerHTML = '';\n",
              "          dataTable['output_type'] = 'display_data';\n",
              "          await google.colab.output.renderOutput(dataTable, element);\n",
              "          const docLink = document.createElement('div');\n",
              "          docLink.innerHTML = docLinkHtml;\n",
              "          element.appendChild(docLink);\n",
              "        }\n",
              "      </script>\n",
              "    </div>\n",
              "  </div>\n",
              "  "
            ],
            "text/plain": [
              "  dialect  sarcasm sentiment                                              tweet\n",
              "0    gulf    False  negative  نصح عمر نزل لعب وبر ارو مش زي كنا توقع اله رحم...\n",
              "1     msa    False   neutral  ناد نسب نجم ❤️❤️❤️مجلة اري كلر 💭 لكة صحراء 👑 ر...\n",
              "2   egypt    False   neutral                                    خدم وقع انه سمر\n",
              "3  levant     True   neutral                      خدم يعن وفق لأن دمشق صير وسكو\n",
              "4     msa    False   neutral  خدم قئد حرس عرف فقد يطر مني شرق غرب اير حوز حو..."
            ]
          },
          "metadata": {},
          "execution_count": 111
        }
      ]
    },
    {
      "cell_type": "code",
      "metadata": {
        "id": "PCKUEnzbztCb",
        "colab": {
          "base_uri": "https://localhost:8080/",
          "height": 206
        },
        "outputId": "e737dcd0-16a6-45a2-91e8-e700c58a0e7c"
      },
      "source": [
        "testData.head()"
      ],
      "execution_count": null,
      "outputs": [
        {
          "output_type": "execute_result",
          "data": {
            "text/html": [
              "\n",
              "  <div id=\"df-70725d76-e6a5-4ece-ad3c-6b00a238fd0d\">\n",
              "    <div class=\"colab-df-container\">\n",
              "      <div>\n",
              "<style scoped>\n",
              "    .dataframe tbody tr th:only-of-type {\n",
              "        vertical-align: middle;\n",
              "    }\n",
              "\n",
              "    .dataframe tbody tr th {\n",
              "        vertical-align: top;\n",
              "    }\n",
              "\n",
              "    .dataframe thead th {\n",
              "        text-align: right;\n",
              "    }\n",
              "</style>\n",
              "<table border=\"1\" class=\"dataframe\">\n",
              "  <thead>\n",
              "    <tr style=\"text-align: right;\">\n",
              "      <th></th>\n",
              "      <th>dialect</th>\n",
              "      <th>sarcasm</th>\n",
              "      <th>sentiment</th>\n",
              "      <th>tweet</th>\n",
              "    </tr>\n",
              "  </thead>\n",
              "  <tbody>\n",
              "    <tr>\n",
              "      <th>0</th>\n",
              "      <td>msa</td>\n",
              "      <td>True</td>\n",
              "      <td>negative</td>\n",
              "      <td>خدم خدم ه حزب اله حطم سطر ميركاف اسرائيليه عام...</td>\n",
              "    </tr>\n",
              "    <tr>\n",
              "      <th>1</th>\n",
              "      <td>gulf</td>\n",
              "      <td>False</td>\n",
              "      <td>positive</td>\n",
              "      <td>خدم بنت الي صمو بقل ترا رمض قرب وقت قلل الي نا...</td>\n",
              "    </tr>\n",
              "    <tr>\n",
              "      <th>2</th>\n",
              "      <td>msa</td>\n",
              "      <td>True</td>\n",
              "      <td>neutral</td>\n",
              "      <td>شرة ربع اشب بنر حرق قلب</td>\n",
              "    </tr>\n",
              "    <tr>\n",
              "      <th>3</th>\n",
              "      <td>msa</td>\n",
              "      <td>False</td>\n",
              "      <td>neutral</td>\n",
              "      <td>خدم اهي ميز درج زنس علم اني روكسيل ارد ذهب مصر...</td>\n",
              "    </tr>\n",
              "    <tr>\n",
              "      <th>4</th>\n",
              "      <td>msa</td>\n",
              "      <td>False</td>\n",
              "      <td>neutral</td>\n",
              "      <td>تره لفز نفس شدد رشح هيلار كلن دونالد رمب ربط</td>\n",
              "    </tr>\n",
              "  </tbody>\n",
              "</table>\n",
              "</div>\n",
              "      <button class=\"colab-df-convert\" onclick=\"convertToInteractive('df-70725d76-e6a5-4ece-ad3c-6b00a238fd0d')\"\n",
              "              title=\"Convert this dataframe to an interactive table.\"\n",
              "              style=\"display:none;\">\n",
              "        \n",
              "  <svg xmlns=\"http://www.w3.org/2000/svg\" height=\"24px\"viewBox=\"0 0 24 24\"\n",
              "       width=\"24px\">\n",
              "    <path d=\"M0 0h24v24H0V0z\" fill=\"none\"/>\n",
              "    <path d=\"M18.56 5.44l.94 2.06.94-2.06 2.06-.94-2.06-.94-.94-2.06-.94 2.06-2.06.94zm-11 1L8.5 8.5l.94-2.06 2.06-.94-2.06-.94L8.5 2.5l-.94 2.06-2.06.94zm10 10l.94 2.06.94-2.06 2.06-.94-2.06-.94-.94-2.06-.94 2.06-2.06.94z\"/><path d=\"M17.41 7.96l-1.37-1.37c-.4-.4-.92-.59-1.43-.59-.52 0-1.04.2-1.43.59L10.3 9.45l-7.72 7.72c-.78.78-.78 2.05 0 2.83L4 21.41c.39.39.9.59 1.41.59.51 0 1.02-.2 1.41-.59l7.78-7.78 2.81-2.81c.8-.78.8-2.07 0-2.86zM5.41 20L4 18.59l7.72-7.72 1.47 1.35L5.41 20z\"/>\n",
              "  </svg>\n",
              "      </button>\n",
              "      \n",
              "  <style>\n",
              "    .colab-df-container {\n",
              "      display:flex;\n",
              "      flex-wrap:wrap;\n",
              "      gap: 12px;\n",
              "    }\n",
              "\n",
              "    .colab-df-convert {\n",
              "      background-color: #E8F0FE;\n",
              "      border: none;\n",
              "      border-radius: 50%;\n",
              "      cursor: pointer;\n",
              "      display: none;\n",
              "      fill: #1967D2;\n",
              "      height: 32px;\n",
              "      padding: 0 0 0 0;\n",
              "      width: 32px;\n",
              "    }\n",
              "\n",
              "    .colab-df-convert:hover {\n",
              "      background-color: #E2EBFA;\n",
              "      box-shadow: 0px 1px 2px rgba(60, 64, 67, 0.3), 0px 1px 3px 1px rgba(60, 64, 67, 0.15);\n",
              "      fill: #174EA6;\n",
              "    }\n",
              "\n",
              "    [theme=dark] .colab-df-convert {\n",
              "      background-color: #3B4455;\n",
              "      fill: #D2E3FC;\n",
              "    }\n",
              "\n",
              "    [theme=dark] .colab-df-convert:hover {\n",
              "      background-color: #434B5C;\n",
              "      box-shadow: 0px 1px 3px 1px rgba(0, 0, 0, 0.15);\n",
              "      filter: drop-shadow(0px 1px 2px rgba(0, 0, 0, 0.3));\n",
              "      fill: #FFFFFF;\n",
              "    }\n",
              "  </style>\n",
              "\n",
              "      <script>\n",
              "        const buttonEl =\n",
              "          document.querySelector('#df-70725d76-e6a5-4ece-ad3c-6b00a238fd0d button.colab-df-convert');\n",
              "        buttonEl.style.display =\n",
              "          google.colab.kernel.accessAllowed ? 'block' : 'none';\n",
              "\n",
              "        async function convertToInteractive(key) {\n",
              "          const element = document.querySelector('#df-70725d76-e6a5-4ece-ad3c-6b00a238fd0d');\n",
              "          const dataTable =\n",
              "            await google.colab.kernel.invokeFunction('convertToInteractive',\n",
              "                                                     [key], {});\n",
              "          if (!dataTable) return;\n",
              "\n",
              "          const docLinkHtml = 'Like what you see? Visit the ' +\n",
              "            '<a target=\"_blank\" href=https://colab.research.google.com/notebooks/data_table.ipynb>data table notebook</a>'\n",
              "            + ' to learn more about interactive tables.';\n",
              "          element.innerHTML = '';\n",
              "          dataTable['output_type'] = 'display_data';\n",
              "          await google.colab.output.renderOutput(dataTable, element);\n",
              "          const docLink = document.createElement('div');\n",
              "          docLink.innerHTML = docLinkHtml;\n",
              "          element.appendChild(docLink);\n",
              "        }\n",
              "      </script>\n",
              "    </div>\n",
              "  </div>\n",
              "  "
            ],
            "text/plain": [
              "  dialect  sarcasm sentiment                                              tweet\n",
              "0     msa     True  negative  خدم خدم ه حزب اله حطم سطر ميركاف اسرائيليه عام...\n",
              "1    gulf    False  positive  خدم بنت الي صمو بقل ترا رمض قرب وقت قلل الي نا...\n",
              "2     msa     True   neutral                            شرة ربع اشب بنر حرق قلب\n",
              "3     msa    False   neutral  خدم اهي ميز درج زنس علم اني روكسيل ارد ذهب مصر...\n",
              "4     msa    False   neutral       تره لفز نفس شدد رشح هيلار كلن دونالد رمب ربط"
            ]
          },
          "metadata": {},
          "execution_count": 112
        }
      ]
    },
    {
      "cell_type": "code",
      "source": [
        "trainData_sarcasm=trainData.copy()\n",
        "testData_sarcasm=testData.copy()\n",
        "trainData_sarcasm.drop([\"sentiment\",\"dialect\"],axis=1,inplace=True)\n",
        "testData_sarcasm.drop([\"sentiment\",\"dialect\"],axis=1,inplace=True)\n"
      ],
      "metadata": {
        "id": "vEs__69_oBxk"
      },
      "execution_count": null,
      "outputs": []
    },
    {
      "cell_type": "code",
      "source": [
        "trainData_sarcasm.head()"
      ],
      "metadata": {
        "id": "Xv_dNHNapZ5I",
        "colab": {
          "base_uri": "https://localhost:8080/",
          "height": 206
        },
        "outputId": "600130af-4a50-4928-8d2e-db874c6ed01f"
      },
      "execution_count": null,
      "outputs": [
        {
          "output_type": "execute_result",
          "data": {
            "text/html": [
              "\n",
              "  <div id=\"df-f796cda9-2927-49fb-a939-a3255d17f7c7\">\n",
              "    <div class=\"colab-df-container\">\n",
              "      <div>\n",
              "<style scoped>\n",
              "    .dataframe tbody tr th:only-of-type {\n",
              "        vertical-align: middle;\n",
              "    }\n",
              "\n",
              "    .dataframe tbody tr th {\n",
              "        vertical-align: top;\n",
              "    }\n",
              "\n",
              "    .dataframe thead th {\n",
              "        text-align: right;\n",
              "    }\n",
              "</style>\n",
              "<table border=\"1\" class=\"dataframe\">\n",
              "  <thead>\n",
              "    <tr style=\"text-align: right;\">\n",
              "      <th></th>\n",
              "      <th>sarcasm</th>\n",
              "      <th>tweet</th>\n",
              "    </tr>\n",
              "  </thead>\n",
              "  <tbody>\n",
              "    <tr>\n",
              "      <th>0</th>\n",
              "      <td>False</td>\n",
              "      <td>نصح عمر نزل لعب وبر ارو مش زي كنا توقع اله رحم...</td>\n",
              "    </tr>\n",
              "    <tr>\n",
              "      <th>1</th>\n",
              "      <td>False</td>\n",
              "      <td>ناد نسب نجم ❤️❤️❤️مجلة اري كلر 💭 لكة صحراء 👑 ر...</td>\n",
              "    </tr>\n",
              "    <tr>\n",
              "      <th>2</th>\n",
              "      <td>False</td>\n",
              "      <td>خدم وقع انه سمر</td>\n",
              "    </tr>\n",
              "    <tr>\n",
              "      <th>3</th>\n",
              "      <td>True</td>\n",
              "      <td>خدم يعن وفق لأن دمشق صير وسكو</td>\n",
              "    </tr>\n",
              "    <tr>\n",
              "      <th>4</th>\n",
              "      <td>False</td>\n",
              "      <td>خدم قئد حرس عرف فقد يطر مني شرق غرب اير حوز حو...</td>\n",
              "    </tr>\n",
              "  </tbody>\n",
              "</table>\n",
              "</div>\n",
              "      <button class=\"colab-df-convert\" onclick=\"convertToInteractive('df-f796cda9-2927-49fb-a939-a3255d17f7c7')\"\n",
              "              title=\"Convert this dataframe to an interactive table.\"\n",
              "              style=\"display:none;\">\n",
              "        \n",
              "  <svg xmlns=\"http://www.w3.org/2000/svg\" height=\"24px\"viewBox=\"0 0 24 24\"\n",
              "       width=\"24px\">\n",
              "    <path d=\"M0 0h24v24H0V0z\" fill=\"none\"/>\n",
              "    <path d=\"M18.56 5.44l.94 2.06.94-2.06 2.06-.94-2.06-.94-.94-2.06-.94 2.06-2.06.94zm-11 1L8.5 8.5l.94-2.06 2.06-.94-2.06-.94L8.5 2.5l-.94 2.06-2.06.94zm10 10l.94 2.06.94-2.06 2.06-.94-2.06-.94-.94-2.06-.94 2.06-2.06.94z\"/><path d=\"M17.41 7.96l-1.37-1.37c-.4-.4-.92-.59-1.43-.59-.52 0-1.04.2-1.43.59L10.3 9.45l-7.72 7.72c-.78.78-.78 2.05 0 2.83L4 21.41c.39.39.9.59 1.41.59.51 0 1.02-.2 1.41-.59l7.78-7.78 2.81-2.81c.8-.78.8-2.07 0-2.86zM5.41 20L4 18.59l7.72-7.72 1.47 1.35L5.41 20z\"/>\n",
              "  </svg>\n",
              "      </button>\n",
              "      \n",
              "  <style>\n",
              "    .colab-df-container {\n",
              "      display:flex;\n",
              "      flex-wrap:wrap;\n",
              "      gap: 12px;\n",
              "    }\n",
              "\n",
              "    .colab-df-convert {\n",
              "      background-color: #E8F0FE;\n",
              "      border: none;\n",
              "      border-radius: 50%;\n",
              "      cursor: pointer;\n",
              "      display: none;\n",
              "      fill: #1967D2;\n",
              "      height: 32px;\n",
              "      padding: 0 0 0 0;\n",
              "      width: 32px;\n",
              "    }\n",
              "\n",
              "    .colab-df-convert:hover {\n",
              "      background-color: #E2EBFA;\n",
              "      box-shadow: 0px 1px 2px rgba(60, 64, 67, 0.3), 0px 1px 3px 1px rgba(60, 64, 67, 0.15);\n",
              "      fill: #174EA6;\n",
              "    }\n",
              "\n",
              "    [theme=dark] .colab-df-convert {\n",
              "      background-color: #3B4455;\n",
              "      fill: #D2E3FC;\n",
              "    }\n",
              "\n",
              "    [theme=dark] .colab-df-convert:hover {\n",
              "      background-color: #434B5C;\n",
              "      box-shadow: 0px 1px 3px 1px rgba(0, 0, 0, 0.15);\n",
              "      filter: drop-shadow(0px 1px 2px rgba(0, 0, 0, 0.3));\n",
              "      fill: #FFFFFF;\n",
              "    }\n",
              "  </style>\n",
              "\n",
              "      <script>\n",
              "        const buttonEl =\n",
              "          document.querySelector('#df-f796cda9-2927-49fb-a939-a3255d17f7c7 button.colab-df-convert');\n",
              "        buttonEl.style.display =\n",
              "          google.colab.kernel.accessAllowed ? 'block' : 'none';\n",
              "\n",
              "        async function convertToInteractive(key) {\n",
              "          const element = document.querySelector('#df-f796cda9-2927-49fb-a939-a3255d17f7c7');\n",
              "          const dataTable =\n",
              "            await google.colab.kernel.invokeFunction('convertToInteractive',\n",
              "                                                     [key], {});\n",
              "          if (!dataTable) return;\n",
              "\n",
              "          const docLinkHtml = 'Like what you see? Visit the ' +\n",
              "            '<a target=\"_blank\" href=https://colab.research.google.com/notebooks/data_table.ipynb>data table notebook</a>'\n",
              "            + ' to learn more about interactive tables.';\n",
              "          element.innerHTML = '';\n",
              "          dataTable['output_type'] = 'display_data';\n",
              "          await google.colab.output.renderOutput(dataTable, element);\n",
              "          const docLink = document.createElement('div');\n",
              "          docLink.innerHTML = docLinkHtml;\n",
              "          element.appendChild(docLink);\n",
              "        }\n",
              "      </script>\n",
              "    </div>\n",
              "  </div>\n",
              "  "
            ],
            "text/plain": [
              "   sarcasm                                              tweet\n",
              "0    False  نصح عمر نزل لعب وبر ارو مش زي كنا توقع اله رحم...\n",
              "1    False  ناد نسب نجم ❤️❤️❤️مجلة اري كلر 💭 لكة صحراء 👑 ر...\n",
              "2    False                                    خدم وقع انه سمر\n",
              "3     True                      خدم يعن وفق لأن دمشق صير وسكو\n",
              "4    False  خدم قئد حرس عرف فقد يطر مني شرق غرب اير حوز حو..."
            ]
          },
          "metadata": {},
          "execution_count": 114
        }
      ]
    },
    {
      "cell_type": "markdown",
      "metadata": {
        "id": "e0rl_4rv3MFY"
      },
      "source": [
        "# Sarcasm Label Encoding"
      ]
    },
    {
      "cell_type": "code",
      "metadata": {
        "id": "ntE7v6St3LV8",
        "colab": {
          "base_uri": "https://localhost:8080/",
          "height": 206
        },
        "outputId": "e7fd6ed3-4d87-48cd-e3e8-e68951bc40f0"
      },
      "source": [
        "# label_encoder object knows how to understand word labels.\n",
        "label_encoder = preprocessing.LabelEncoder()\n",
        "# Encode labels in column 'species'.\n",
        "trainData_sarcasm['sarcasm']= label_encoder.fit_transform(trainData_sarcasm['sarcasm'])\n",
        "testData_sarcasm['sarcasm']= label_encoder.fit_transform(testData_sarcasm['sarcasm'])\n",
        "trainData_sarcasm.head()"
      ],
      "execution_count": null,
      "outputs": [
        {
          "output_type": "execute_result",
          "data": {
            "text/html": [
              "\n",
              "  <div id=\"df-6c321ceb-3c86-4ced-abcb-d3abcc768993\">\n",
              "    <div class=\"colab-df-container\">\n",
              "      <div>\n",
              "<style scoped>\n",
              "    .dataframe tbody tr th:only-of-type {\n",
              "        vertical-align: middle;\n",
              "    }\n",
              "\n",
              "    .dataframe tbody tr th {\n",
              "        vertical-align: top;\n",
              "    }\n",
              "\n",
              "    .dataframe thead th {\n",
              "        text-align: right;\n",
              "    }\n",
              "</style>\n",
              "<table border=\"1\" class=\"dataframe\">\n",
              "  <thead>\n",
              "    <tr style=\"text-align: right;\">\n",
              "      <th></th>\n",
              "      <th>sarcasm</th>\n",
              "      <th>tweet</th>\n",
              "    </tr>\n",
              "  </thead>\n",
              "  <tbody>\n",
              "    <tr>\n",
              "      <th>0</th>\n",
              "      <td>0</td>\n",
              "      <td>نصح عمر نزل لعب وبر ارو مش زي كنا توقع اله رحم...</td>\n",
              "    </tr>\n",
              "    <tr>\n",
              "      <th>1</th>\n",
              "      <td>0</td>\n",
              "      <td>ناد نسب نجم ❤️❤️❤️مجلة اري كلر 💭 لكة صحراء 👑 ر...</td>\n",
              "    </tr>\n",
              "    <tr>\n",
              "      <th>2</th>\n",
              "      <td>0</td>\n",
              "      <td>خدم وقع انه سمر</td>\n",
              "    </tr>\n",
              "    <tr>\n",
              "      <th>3</th>\n",
              "      <td>1</td>\n",
              "      <td>خدم يعن وفق لأن دمشق صير وسكو</td>\n",
              "    </tr>\n",
              "    <tr>\n",
              "      <th>4</th>\n",
              "      <td>0</td>\n",
              "      <td>خدم قئد حرس عرف فقد يطر مني شرق غرب اير حوز حو...</td>\n",
              "    </tr>\n",
              "  </tbody>\n",
              "</table>\n",
              "</div>\n",
              "      <button class=\"colab-df-convert\" onclick=\"convertToInteractive('df-6c321ceb-3c86-4ced-abcb-d3abcc768993')\"\n",
              "              title=\"Convert this dataframe to an interactive table.\"\n",
              "              style=\"display:none;\">\n",
              "        \n",
              "  <svg xmlns=\"http://www.w3.org/2000/svg\" height=\"24px\"viewBox=\"0 0 24 24\"\n",
              "       width=\"24px\">\n",
              "    <path d=\"M0 0h24v24H0V0z\" fill=\"none\"/>\n",
              "    <path d=\"M18.56 5.44l.94 2.06.94-2.06 2.06-.94-2.06-.94-.94-2.06-.94 2.06-2.06.94zm-11 1L8.5 8.5l.94-2.06 2.06-.94-2.06-.94L8.5 2.5l-.94 2.06-2.06.94zm10 10l.94 2.06.94-2.06 2.06-.94-2.06-.94-.94-2.06-.94 2.06-2.06.94z\"/><path d=\"M17.41 7.96l-1.37-1.37c-.4-.4-.92-.59-1.43-.59-.52 0-1.04.2-1.43.59L10.3 9.45l-7.72 7.72c-.78.78-.78 2.05 0 2.83L4 21.41c.39.39.9.59 1.41.59.51 0 1.02-.2 1.41-.59l7.78-7.78 2.81-2.81c.8-.78.8-2.07 0-2.86zM5.41 20L4 18.59l7.72-7.72 1.47 1.35L5.41 20z\"/>\n",
              "  </svg>\n",
              "      </button>\n",
              "      \n",
              "  <style>\n",
              "    .colab-df-container {\n",
              "      display:flex;\n",
              "      flex-wrap:wrap;\n",
              "      gap: 12px;\n",
              "    }\n",
              "\n",
              "    .colab-df-convert {\n",
              "      background-color: #E8F0FE;\n",
              "      border: none;\n",
              "      border-radius: 50%;\n",
              "      cursor: pointer;\n",
              "      display: none;\n",
              "      fill: #1967D2;\n",
              "      height: 32px;\n",
              "      padding: 0 0 0 0;\n",
              "      width: 32px;\n",
              "    }\n",
              "\n",
              "    .colab-df-convert:hover {\n",
              "      background-color: #E2EBFA;\n",
              "      box-shadow: 0px 1px 2px rgba(60, 64, 67, 0.3), 0px 1px 3px 1px rgba(60, 64, 67, 0.15);\n",
              "      fill: #174EA6;\n",
              "    }\n",
              "\n",
              "    [theme=dark] .colab-df-convert {\n",
              "      background-color: #3B4455;\n",
              "      fill: #D2E3FC;\n",
              "    }\n",
              "\n",
              "    [theme=dark] .colab-df-convert:hover {\n",
              "      background-color: #434B5C;\n",
              "      box-shadow: 0px 1px 3px 1px rgba(0, 0, 0, 0.15);\n",
              "      filter: drop-shadow(0px 1px 2px rgba(0, 0, 0, 0.3));\n",
              "      fill: #FFFFFF;\n",
              "    }\n",
              "  </style>\n",
              "\n",
              "      <script>\n",
              "        const buttonEl =\n",
              "          document.querySelector('#df-6c321ceb-3c86-4ced-abcb-d3abcc768993 button.colab-df-convert');\n",
              "        buttonEl.style.display =\n",
              "          google.colab.kernel.accessAllowed ? 'block' : 'none';\n",
              "\n",
              "        async function convertToInteractive(key) {\n",
              "          const element = document.querySelector('#df-6c321ceb-3c86-4ced-abcb-d3abcc768993');\n",
              "          const dataTable =\n",
              "            await google.colab.kernel.invokeFunction('convertToInteractive',\n",
              "                                                     [key], {});\n",
              "          if (!dataTable) return;\n",
              "\n",
              "          const docLinkHtml = 'Like what you see? Visit the ' +\n",
              "            '<a target=\"_blank\" href=https://colab.research.google.com/notebooks/data_table.ipynb>data table notebook</a>'\n",
              "            + ' to learn more about interactive tables.';\n",
              "          element.innerHTML = '';\n",
              "          dataTable['output_type'] = 'display_data';\n",
              "          await google.colab.output.renderOutput(dataTable, element);\n",
              "          const docLink = document.createElement('div');\n",
              "          docLink.innerHTML = docLinkHtml;\n",
              "          element.appendChild(docLink);\n",
              "        }\n",
              "      </script>\n",
              "    </div>\n",
              "  </div>\n",
              "  "
            ],
            "text/plain": [
              "   sarcasm                                              tweet\n",
              "0        0  نصح عمر نزل لعب وبر ارو مش زي كنا توقع اله رحم...\n",
              "1        0  ناد نسب نجم ❤️❤️❤️مجلة اري كلر 💭 لكة صحراء 👑 ر...\n",
              "2        0                                    خدم وقع انه سمر\n",
              "3        1                      خدم يعن وفق لأن دمشق صير وسكو\n",
              "4        0  خدم قئد حرس عرف فقد يطر مني شرق غرب اير حوز حو..."
            ]
          },
          "metadata": {},
          "execution_count": 115
        }
      ]
    },
    {
      "cell_type": "code",
      "source": [
        "testData_sarcasm.head()"
      ],
      "metadata": {
        "id": "lXn8mO5tp3ps",
        "colab": {
          "base_uri": "https://localhost:8080/",
          "height": 206
        },
        "outputId": "c1b43f79-a809-43ed-819c-6b3e348bca79"
      },
      "execution_count": null,
      "outputs": [
        {
          "output_type": "execute_result",
          "data": {
            "text/html": [
              "\n",
              "  <div id=\"df-55845cad-8298-474b-8527-a37f5602d30a\">\n",
              "    <div class=\"colab-df-container\">\n",
              "      <div>\n",
              "<style scoped>\n",
              "    .dataframe tbody tr th:only-of-type {\n",
              "        vertical-align: middle;\n",
              "    }\n",
              "\n",
              "    .dataframe tbody tr th {\n",
              "        vertical-align: top;\n",
              "    }\n",
              "\n",
              "    .dataframe thead th {\n",
              "        text-align: right;\n",
              "    }\n",
              "</style>\n",
              "<table border=\"1\" class=\"dataframe\">\n",
              "  <thead>\n",
              "    <tr style=\"text-align: right;\">\n",
              "      <th></th>\n",
              "      <th>sarcasm</th>\n",
              "      <th>tweet</th>\n",
              "    </tr>\n",
              "  </thead>\n",
              "  <tbody>\n",
              "    <tr>\n",
              "      <th>0</th>\n",
              "      <td>1</td>\n",
              "      <td>خدم خدم ه حزب اله حطم سطر ميركاف اسرائيليه عام...</td>\n",
              "    </tr>\n",
              "    <tr>\n",
              "      <th>1</th>\n",
              "      <td>0</td>\n",
              "      <td>خدم بنت الي صمو بقل ترا رمض قرب وقت قلل الي نا...</td>\n",
              "    </tr>\n",
              "    <tr>\n",
              "      <th>2</th>\n",
              "      <td>1</td>\n",
              "      <td>شرة ربع اشب بنر حرق قلب</td>\n",
              "    </tr>\n",
              "    <tr>\n",
              "      <th>3</th>\n",
              "      <td>0</td>\n",
              "      <td>خدم اهي ميز درج زنس علم اني روكسيل ارد ذهب مصر...</td>\n",
              "    </tr>\n",
              "    <tr>\n",
              "      <th>4</th>\n",
              "      <td>0</td>\n",
              "      <td>تره لفز نفس شدد رشح هيلار كلن دونالد رمب ربط</td>\n",
              "    </tr>\n",
              "  </tbody>\n",
              "</table>\n",
              "</div>\n",
              "      <button class=\"colab-df-convert\" onclick=\"convertToInteractive('df-55845cad-8298-474b-8527-a37f5602d30a')\"\n",
              "              title=\"Convert this dataframe to an interactive table.\"\n",
              "              style=\"display:none;\">\n",
              "        \n",
              "  <svg xmlns=\"http://www.w3.org/2000/svg\" height=\"24px\"viewBox=\"0 0 24 24\"\n",
              "       width=\"24px\">\n",
              "    <path d=\"M0 0h24v24H0V0z\" fill=\"none\"/>\n",
              "    <path d=\"M18.56 5.44l.94 2.06.94-2.06 2.06-.94-2.06-.94-.94-2.06-.94 2.06-2.06.94zm-11 1L8.5 8.5l.94-2.06 2.06-.94-2.06-.94L8.5 2.5l-.94 2.06-2.06.94zm10 10l.94 2.06.94-2.06 2.06-.94-2.06-.94-.94-2.06-.94 2.06-2.06.94z\"/><path d=\"M17.41 7.96l-1.37-1.37c-.4-.4-.92-.59-1.43-.59-.52 0-1.04.2-1.43.59L10.3 9.45l-7.72 7.72c-.78.78-.78 2.05 0 2.83L4 21.41c.39.39.9.59 1.41.59.51 0 1.02-.2 1.41-.59l7.78-7.78 2.81-2.81c.8-.78.8-2.07 0-2.86zM5.41 20L4 18.59l7.72-7.72 1.47 1.35L5.41 20z\"/>\n",
              "  </svg>\n",
              "      </button>\n",
              "      \n",
              "  <style>\n",
              "    .colab-df-container {\n",
              "      display:flex;\n",
              "      flex-wrap:wrap;\n",
              "      gap: 12px;\n",
              "    }\n",
              "\n",
              "    .colab-df-convert {\n",
              "      background-color: #E8F0FE;\n",
              "      border: none;\n",
              "      border-radius: 50%;\n",
              "      cursor: pointer;\n",
              "      display: none;\n",
              "      fill: #1967D2;\n",
              "      height: 32px;\n",
              "      padding: 0 0 0 0;\n",
              "      width: 32px;\n",
              "    }\n",
              "\n",
              "    .colab-df-convert:hover {\n",
              "      background-color: #E2EBFA;\n",
              "      box-shadow: 0px 1px 2px rgba(60, 64, 67, 0.3), 0px 1px 3px 1px rgba(60, 64, 67, 0.15);\n",
              "      fill: #174EA6;\n",
              "    }\n",
              "\n",
              "    [theme=dark] .colab-df-convert {\n",
              "      background-color: #3B4455;\n",
              "      fill: #D2E3FC;\n",
              "    }\n",
              "\n",
              "    [theme=dark] .colab-df-convert:hover {\n",
              "      background-color: #434B5C;\n",
              "      box-shadow: 0px 1px 3px 1px rgba(0, 0, 0, 0.15);\n",
              "      filter: drop-shadow(0px 1px 2px rgba(0, 0, 0, 0.3));\n",
              "      fill: #FFFFFF;\n",
              "    }\n",
              "  </style>\n",
              "\n",
              "      <script>\n",
              "        const buttonEl =\n",
              "          document.querySelector('#df-55845cad-8298-474b-8527-a37f5602d30a button.colab-df-convert');\n",
              "        buttonEl.style.display =\n",
              "          google.colab.kernel.accessAllowed ? 'block' : 'none';\n",
              "\n",
              "        async function convertToInteractive(key) {\n",
              "          const element = document.querySelector('#df-55845cad-8298-474b-8527-a37f5602d30a');\n",
              "          const dataTable =\n",
              "            await google.colab.kernel.invokeFunction('convertToInteractive',\n",
              "                                                     [key], {});\n",
              "          if (!dataTable) return;\n",
              "\n",
              "          const docLinkHtml = 'Like what you see? Visit the ' +\n",
              "            '<a target=\"_blank\" href=https://colab.research.google.com/notebooks/data_table.ipynb>data table notebook</a>'\n",
              "            + ' to learn more about interactive tables.';\n",
              "          element.innerHTML = '';\n",
              "          dataTable['output_type'] = 'display_data';\n",
              "          await google.colab.output.renderOutput(dataTable, element);\n",
              "          const docLink = document.createElement('div');\n",
              "          docLink.innerHTML = docLinkHtml;\n",
              "          element.appendChild(docLink);\n",
              "        }\n",
              "      </script>\n",
              "    </div>\n",
              "  </div>\n",
              "  "
            ],
            "text/plain": [
              "   sarcasm                                              tweet\n",
              "0        1  خدم خدم ه حزب اله حطم سطر ميركاف اسرائيليه عام...\n",
              "1        0  خدم بنت الي صمو بقل ترا رمض قرب وقت قلل الي نا...\n",
              "2        1                            شرة ربع اشب بنر حرق قلب\n",
              "3        0  خدم اهي ميز درج زنس علم اني روكسيل ارد ذهب مصر...\n",
              "4        0       تره لفز نفس شدد رشح هيلار كلن دونالد رمب ربط"
            ]
          },
          "metadata": {},
          "execution_count": 116
        }
      ]
    },
    {
      "cell_type": "markdown",
      "source": [
        "# Convert Text to Features using tf-idf\n"
      ],
      "metadata": {
        "id": "eP0L6HZxFJc8"
      }
    },
    {
      "cell_type": "code",
      "source": [
        "# sarcasm\n",
        "train_x, valid_x, train_y, valid_y = trainData_sarcasm['tweet'],testData_sarcasm['tweet'],trainData_sarcasm['sarcasm'],testData_sarcasm['sarcasm']\n",
        "print(len(set(train_y)))\n",
        "print(len(set(valid_y)))\n",
        "# TFIDF feature generation for a maximum of 5000 features\n",
        "print(\"vaild X\",valid_x.head())\n",
        "print(\"vaild Y\",valid_y.head())\n",
        "# encoder = preprocessing.LabelEncoder()\n",
        "# train_y = encoder.fit_transform(train_y)\n",
        "# valid_y = encoder.fit_transform(valid_y)\n",
        "tfidf_vect = TfidfVectorizer(analyzer='word',token_pattern=r'\\w{1,}', max_features=10000)\n",
        "print(tfidf_vect)\n",
        "tfidf_vect.fit(trainData_sarcasm['tweet'])\n",
        "xtrain_tfidf = tfidf_vect.transform(train_x)\n",
        "xvalid_tfidf = tfidf_vect.transform(valid_x)\n",
        "print(xtrain_tfidf.data)"
      ],
      "metadata": {
        "id": "vvCWQyEuFUN2",
        "colab": {
          "base_uri": "https://localhost:8080/"
        },
        "outputId": "ba6b8745-ad31-4290-efd2-0bc43108ea2c"
      },
      "execution_count": null,
      "outputs": [
        {
          "output_type": "stream",
          "name": "stdout",
          "text": [
            "2\n",
            "2\n",
            "vaild X 0    خدم خدم ه حزب اله حطم سطر ميركاف اسرائيليه عام...\n",
            "1    خدم بنت الي صمو بقل ترا رمض قرب وقت قلل الي نا...\n",
            "2                              شرة ربع اشب بنر حرق قلب\n",
            "3    خدم اهي ميز درج زنس علم اني روكسيل ارد ذهب مصر...\n",
            "4         تره لفز نفس شدد رشح هيلار كلن دونالد رمب ربط\n",
            "Name: tweet, dtype: object\n",
            "vaild Y 0    1\n",
            "1    0\n",
            "2    1\n",
            "3    0\n",
            "4    0\n",
            "Name: sarcasm, dtype: int64\n",
            "TfidfVectorizer(max_features=10000, token_pattern='\\\\w{1,}')\n",
            "[0.23664219 0.28748692 0.23161989 ... 0.22089683 0.2261289  0.33029856]\n"
          ]
        }
      ]
    },
    {
      "cell_type": "code",
      "source": [
        "def train_model(classifier, feature_vector_train, label,feature_vector_valid, is_neural_net=False):\n",
        "    # fit the training dataset on the classifier\n",
        "    classifier.fit(feature_vector_train, label)\n",
        "    # predict the labels on validation dataset\n",
        "    predictions = classifier.predict(feature_vector_valid)\n",
        "    return metrics.accuracy_score(predictions, valid_y),predictions"
      ],
      "metadata": {
        "id": "KrGey1XsMr2I"
      },
      "execution_count": null,
      "outputs": []
    },
    {
      "cell_type": "markdown",
      "source": [
        "# SVM To predict Sarcasm or not"
      ],
      "metadata": {
        "id": "hDTTlY-tPbfy"
      }
    },
    {
      "cell_type": "code",
      "source": [
        "clf_svm = svm.SVC(kernel='linear')\n",
        "#train_model\n",
        "accuracy,predictions=train_model(clf_svm,xtrain_tfidf, train_y, xvalid_tfidf)\n",
        "print(\"accuracy_for_sarcasm: \",accuracy*100)\n",
        "print(\"-----------------------------------------------------\")\n",
        "print(\"-----------------------------------------------------\")\n",
        "from sklearn.metrics import classification_report,confusion_matrix\n",
        "print(classification_report(valid_y,predictions))"
      ],
      "metadata": {
        "id": "fzVyrEG9NDxn",
        "colab": {
          "base_uri": "https://localhost:8080/"
        },
        "outputId": "007ff620-ba8d-4d62-be54-58ded86bbb4a"
      },
      "execution_count": null,
      "outputs": [
        {
          "output_type": "stream",
          "name": "stdout",
          "text": [
            "accuracy_for_sarcasm:  85.2132701421801\n",
            "-----------------------------------------------------\n",
            "-----------------------------------------------------\n",
            "              precision    recall  f1-score   support\n",
            "\n",
            "           0       0.86      0.98      0.92      1765\n",
            "           1       0.67      0.19      0.29       345\n",
            "\n",
            "    accuracy                           0.85      2110\n",
            "   macro avg       0.77      0.58      0.60      2110\n",
            "weighted avg       0.83      0.85      0.82      2110\n",
            "\n"
          ]
        }
      ]
    },
    {
      "cell_type": "code",
      "source": [
        "import numpy as np\n",
        "text_clean=\"منتج رائع\"\n",
        "def convert_sample_to_numbers(text):\n",
        "  text_result=tfidf_vect.transform([text])\n",
        "  return text_result\n",
        "test=convert_sample_to_numbers(text_clean)\n",
        "  \n",
        "print(label_encoder.inverse_transform(clf_svm.predict(test))) "
      ],
      "metadata": {
        "id": "aPbGepVleaH_",
        "colab": {
          "base_uri": "https://localhost:8080/"
        },
        "outputId": "5fa206ed-4198-49a7-8bd4-4bfe2ddd47ef"
      },
      "execution_count": null,
      "outputs": [
        {
          "output_type": "stream",
          "name": "stdout",
          "text": [
            "[False]\n"
          ]
        }
      ]
    },
    {
      "cell_type": "code",
      "source": [
        "#Import Random Forest Model\n",
        "from sklearn.ensemble import RandomForestClassifier\n",
        "\n",
        "#Create a Gaussian Classifier\n",
        "RandomForestClassifier_model=RandomForestClassifier(n_estimators=100)\n",
        "#train_model\n",
        "accuracy,predictions=train_model(RandomForestClassifier_model,xtrain_tfidf, train_y, xvalid_tfidf)\n",
        "print(\"RandomForestClassifier_model accuracy_for_sarcasm: \",accuracy*100)\n",
        "print(\"-----------------------------------------------------\")\n",
        "print(\"-----------------------------------------------------\")\n",
        "from sklearn.metrics import classification_report,confusion_matrix\n",
        "print(classification_report(valid_y,predictions))"
      ],
      "metadata": {
        "id": "obE9f6jHU5sG",
        "colab": {
          "base_uri": "https://localhost:8080/"
        },
        "outputId": "4112f0f1-b302-4575-9432-cc2b02c878a8"
      },
      "execution_count": null,
      "outputs": [
        {
          "output_type": "stream",
          "name": "stdout",
          "text": [
            "RandomForestClassifier_model accuracy_for_sarcasm:  84.92890995260663\n",
            "-----------------------------------------------------\n",
            "-----------------------------------------------------\n",
            "              precision    recall  f1-score   support\n",
            "\n",
            "           0       0.85      0.99      0.92      1765\n",
            "           1       0.71      0.13      0.22       345\n",
            "\n",
            "    accuracy                           0.85      2110\n",
            "   macro avg       0.78      0.56      0.57      2110\n",
            "weighted avg       0.83      0.85      0.80      2110\n",
            "\n"
          ]
        }
      ]
    },
    {
      "cell_type": "code",
      "source": [
        "from sklearn.neighbors import KNeighborsClassifier\n",
        "\n",
        "knn_model = KNeighborsClassifier(n_neighbors=3)\n",
        "\n",
        "accuracy,predictions=train_model(knn_model,xtrain_tfidf,train_y,xvalid_tfidf)\n",
        "print(\"KNN accuracy_for_sarcasm: \",accuracy*100)\n",
        "print(\"-----------------------------------------------------\")\n",
        "print(\"-----------------------------------------------------\")\n",
        "from sklearn.metrics import classification_report,confusion_matrix\n",
        "print(classification_report(valid_y,predictions))"
      ],
      "metadata": {
        "id": "ga8SvHVJQWnO",
        "colab": {
          "base_uri": "https://localhost:8080/"
        },
        "outputId": "cf24394a-87a4-4e44-c30f-eb0218576d72"
      },
      "execution_count": null,
      "outputs": [
        {
          "output_type": "stream",
          "name": "stdout",
          "text": [
            "KNN accuracy_for_sarcasm:  83.55450236966824\n",
            "-----------------------------------------------------\n",
            "-----------------------------------------------------\n",
            "              precision    recall  f1-score   support\n",
            "\n",
            "           0       0.86      0.96      0.91      1765\n",
            "           1       0.49      0.20      0.28       345\n",
            "\n",
            "    accuracy                           0.84      2110\n",
            "   macro avg       0.68      0.58      0.59      2110\n",
            "weighted avg       0.80      0.84      0.80      2110\n",
            "\n"
          ]
        }
      ]
    },
    {
      "cell_type": "code",
      "source": [
        "import numpy as np\n",
        "text_clean=\"منتج رائع\"\n",
        "def convert_sample_to_numbers(text):\n",
        "  text_result=tfidf_vect.transform([text])\n",
        "  return text_result\n",
        "test=convert_sample_to_numbers(text_clean)\n",
        "\n",
        "print(label_encoder.inverse_transform(knn_model.predict(test))) "
      ],
      "metadata": {
        "id": "DUOQx4Wirc4k",
        "colab": {
          "base_uri": "https://localhost:8080/"
        },
        "outputId": "5fe2d644-a3a6-443c-940a-b9cda1e2e686"
      },
      "execution_count": null,
      "outputs": [
        {
          "output_type": "stream",
          "name": "stdout",
          "text": [
            "[False]\n"
          ]
        }
      ]
    },
    {
      "cell_type": "code",
      "source": [
        "from sklearn.tree import DecisionTreeClassifier\n",
        "# Create Decision Tree classifer object\n",
        "clf_decisionTree = DecisionTreeClassifier()\n",
        "\n",
        "accuracy,predictions=train_model(clf_decisionTree,xtrain_tfidf,train_y,xvalid_tfidf)\n",
        "print(\"DecisionTreeClassifier accuracy_for_sarcasm: \",accuracy*100)\n",
        "print(\"-----------------------------------------------------\")\n",
        "print(\"-----------------------------------------------------\")\n",
        "from sklearn.metrics import classification_report,confusion_matrix\n",
        "print(classification_report(valid_y,predictions))"
      ],
      "metadata": {
        "id": "Yr71cqybTqOJ",
        "colab": {
          "base_uri": "https://localhost:8080/"
        },
        "outputId": "d21adb75-ce03-4b47-c156-d65f72de3e8b"
      },
      "execution_count": null,
      "outputs": [
        {
          "output_type": "stream",
          "name": "stdout",
          "text": [
            "DecisionTreeClassifier accuracy_for_sarcasm:  80.90047393364928\n",
            "-----------------------------------------------------\n",
            "-----------------------------------------------------\n",
            "              precision    recall  f1-score   support\n",
            "\n",
            "           0       0.88      0.89      0.89      1765\n",
            "           1       0.41      0.38      0.39       345\n",
            "\n",
            "    accuracy                           0.81      2110\n",
            "   macro avg       0.64      0.64      0.64      2110\n",
            "weighted avg       0.80      0.81      0.81      2110\n",
            "\n"
          ]
        }
      ]
    },
    {
      "cell_type": "code",
      "source": [
        "import numpy as np\n",
        "text_clean=\"منتج رائع\"\n",
        "def convert_sample_to_numbers(text):\n",
        "  text_result=tfidf_vect.transform([text])\n",
        "  return text_result\n",
        "test=convert_sample_to_numbers(text_clean)\n",
        " \n",
        "print(label_encoder.inverse_transform(knn_model.predict(test))) "
      ],
      "metadata": {
        "id": "t_qTJw98rmuw",
        "colab": {
          "base_uri": "https://localhost:8080/"
        },
        "outputId": "9a07b4d3-2f15-4ad9-cc9f-239e55250d13"
      },
      "execution_count": null,
      "outputs": [
        {
          "output_type": "stream",
          "name": "stdout",
          "text": [
            "[False]\n"
          ]
        }
      ]
    },
    {
      "cell_type": "code",
      "source": [
        "from sklearn.naive_bayes import ComplementNB\n",
        "# Create ComplementNB classifer object\n",
        "clf_ComplementNB = ComplementNB()\n",
        "\n",
        "accuracy,predictions=train_model(clf_ComplementNB,xtrain_tfidf.toarray(),train_y,xvalid_tfidf.toarray())\n",
        "print(\"ComplementNB classifer accuracy_for_sarcasm: \",accuracy*100)\n",
        "print(\"-----------------------------------------------------\")\n",
        "print(\"-----------------------------------------------------\")\n",
        "from sklearn.metrics import classification_report,confusion_matrix\n",
        "print(classification_report(valid_y,predictions))"
      ],
      "metadata": {
        "colab": {
          "base_uri": "https://localhost:8080/"
        },
        "id": "t-ombf7IJgA3",
        "outputId": "57480188-8fdb-4a28-8139-4dac2aa6d449"
      },
      "execution_count": null,
      "outputs": [
        {
          "output_type": "stream",
          "name": "stdout",
          "text": [
            "ComplementNB classifer accuracy_for_sarcasm:  84.40758293838863\n",
            "-----------------------------------------------------\n",
            "-----------------------------------------------------\n",
            "              precision    recall  f1-score   support\n",
            "\n",
            "           0       0.87      0.96      0.91      1765\n",
            "           1       0.55      0.24      0.34       345\n",
            "\n",
            "    accuracy                           0.84      2110\n",
            "   macro avg       0.71      0.60      0.62      2110\n",
            "weighted avg       0.82      0.84      0.82      2110\n",
            "\n"
          ]
        }
      ]
    },
    {
      "cell_type": "code",
      "source": [
        "trainData_sentiment=trainData.copy()\n",
        "testData_sentiment=testData.copy()\n",
        "trainData_sentiment.drop([\"sarcasm\",\"dialect\"],axis=1,inplace=True)\n",
        "testData_sentiment.drop([\"sarcasm\",\"dialect\"],axis=1,inplace=True)\n",
        "trainData_sentiment.head()"
      ],
      "metadata": {
        "id": "1O-s1DQLsNoA",
        "colab": {
          "base_uri": "https://localhost:8080/",
          "height": 206
        },
        "outputId": "3fdaca54-333d-4968-ef53-8148ea694377"
      },
      "execution_count": null,
      "outputs": [
        {
          "output_type": "execute_result",
          "data": {
            "text/html": [
              "\n",
              "  <div id=\"df-b48c3a31-1c9f-4331-9262-f74922c4eaf4\">\n",
              "    <div class=\"colab-df-container\">\n",
              "      <div>\n",
              "<style scoped>\n",
              "    .dataframe tbody tr th:only-of-type {\n",
              "        vertical-align: middle;\n",
              "    }\n",
              "\n",
              "    .dataframe tbody tr th {\n",
              "        vertical-align: top;\n",
              "    }\n",
              "\n",
              "    .dataframe thead th {\n",
              "        text-align: right;\n",
              "    }\n",
              "</style>\n",
              "<table border=\"1\" class=\"dataframe\">\n",
              "  <thead>\n",
              "    <tr style=\"text-align: right;\">\n",
              "      <th></th>\n",
              "      <th>sentiment</th>\n",
              "      <th>tweet</th>\n",
              "    </tr>\n",
              "  </thead>\n",
              "  <tbody>\n",
              "    <tr>\n",
              "      <th>0</th>\n",
              "      <td>negative</td>\n",
              "      <td>نصح عمر نزل لعب وبر ارو مش زي كنا توقع اله رحم...</td>\n",
              "    </tr>\n",
              "    <tr>\n",
              "      <th>1</th>\n",
              "      <td>neutral</td>\n",
              "      <td>ناد نسب نجم ❤️❤️❤️مجلة اري كلر 💭 لكة صحراء 👑 ر...</td>\n",
              "    </tr>\n",
              "    <tr>\n",
              "      <th>2</th>\n",
              "      <td>neutral</td>\n",
              "      <td>خدم وقع انه سمر</td>\n",
              "    </tr>\n",
              "    <tr>\n",
              "      <th>3</th>\n",
              "      <td>neutral</td>\n",
              "      <td>خدم يعن وفق لأن دمشق صير وسكو</td>\n",
              "    </tr>\n",
              "    <tr>\n",
              "      <th>4</th>\n",
              "      <td>neutral</td>\n",
              "      <td>خدم قئد حرس عرف فقد يطر مني شرق غرب اير حوز حو...</td>\n",
              "    </tr>\n",
              "  </tbody>\n",
              "</table>\n",
              "</div>\n",
              "      <button class=\"colab-df-convert\" onclick=\"convertToInteractive('df-b48c3a31-1c9f-4331-9262-f74922c4eaf4')\"\n",
              "              title=\"Convert this dataframe to an interactive table.\"\n",
              "              style=\"display:none;\">\n",
              "        \n",
              "  <svg xmlns=\"http://www.w3.org/2000/svg\" height=\"24px\"viewBox=\"0 0 24 24\"\n",
              "       width=\"24px\">\n",
              "    <path d=\"M0 0h24v24H0V0z\" fill=\"none\"/>\n",
              "    <path d=\"M18.56 5.44l.94 2.06.94-2.06 2.06-.94-2.06-.94-.94-2.06-.94 2.06-2.06.94zm-11 1L8.5 8.5l.94-2.06 2.06-.94-2.06-.94L8.5 2.5l-.94 2.06-2.06.94zm10 10l.94 2.06.94-2.06 2.06-.94-2.06-.94-.94-2.06-.94 2.06-2.06.94z\"/><path d=\"M17.41 7.96l-1.37-1.37c-.4-.4-.92-.59-1.43-.59-.52 0-1.04.2-1.43.59L10.3 9.45l-7.72 7.72c-.78.78-.78 2.05 0 2.83L4 21.41c.39.39.9.59 1.41.59.51 0 1.02-.2 1.41-.59l7.78-7.78 2.81-2.81c.8-.78.8-2.07 0-2.86zM5.41 20L4 18.59l7.72-7.72 1.47 1.35L5.41 20z\"/>\n",
              "  </svg>\n",
              "      </button>\n",
              "      \n",
              "  <style>\n",
              "    .colab-df-container {\n",
              "      display:flex;\n",
              "      flex-wrap:wrap;\n",
              "      gap: 12px;\n",
              "    }\n",
              "\n",
              "    .colab-df-convert {\n",
              "      background-color: #E8F0FE;\n",
              "      border: none;\n",
              "      border-radius: 50%;\n",
              "      cursor: pointer;\n",
              "      display: none;\n",
              "      fill: #1967D2;\n",
              "      height: 32px;\n",
              "      padding: 0 0 0 0;\n",
              "      width: 32px;\n",
              "    }\n",
              "\n",
              "    .colab-df-convert:hover {\n",
              "      background-color: #E2EBFA;\n",
              "      box-shadow: 0px 1px 2px rgba(60, 64, 67, 0.3), 0px 1px 3px 1px rgba(60, 64, 67, 0.15);\n",
              "      fill: #174EA6;\n",
              "    }\n",
              "\n",
              "    [theme=dark] .colab-df-convert {\n",
              "      background-color: #3B4455;\n",
              "      fill: #D2E3FC;\n",
              "    }\n",
              "\n",
              "    [theme=dark] .colab-df-convert:hover {\n",
              "      background-color: #434B5C;\n",
              "      box-shadow: 0px 1px 3px 1px rgba(0, 0, 0, 0.15);\n",
              "      filter: drop-shadow(0px 1px 2px rgba(0, 0, 0, 0.3));\n",
              "      fill: #FFFFFF;\n",
              "    }\n",
              "  </style>\n",
              "\n",
              "      <script>\n",
              "        const buttonEl =\n",
              "          document.querySelector('#df-b48c3a31-1c9f-4331-9262-f74922c4eaf4 button.colab-df-convert');\n",
              "        buttonEl.style.display =\n",
              "          google.colab.kernel.accessAllowed ? 'block' : 'none';\n",
              "\n",
              "        async function convertToInteractive(key) {\n",
              "          const element = document.querySelector('#df-b48c3a31-1c9f-4331-9262-f74922c4eaf4');\n",
              "          const dataTable =\n",
              "            await google.colab.kernel.invokeFunction('convertToInteractive',\n",
              "                                                     [key], {});\n",
              "          if (!dataTable) return;\n",
              "\n",
              "          const docLinkHtml = 'Like what you see? Visit the ' +\n",
              "            '<a target=\"_blank\" href=https://colab.research.google.com/notebooks/data_table.ipynb>data table notebook</a>'\n",
              "            + ' to learn more about interactive tables.';\n",
              "          element.innerHTML = '';\n",
              "          dataTable['output_type'] = 'display_data';\n",
              "          await google.colab.output.renderOutput(dataTable, element);\n",
              "          const docLink = document.createElement('div');\n",
              "          docLink.innerHTML = docLinkHtml;\n",
              "          element.appendChild(docLink);\n",
              "        }\n",
              "      </script>\n",
              "    </div>\n",
              "  </div>\n",
              "  "
            ],
            "text/plain": [
              "  sentiment                                              tweet\n",
              "0  negative  نصح عمر نزل لعب وبر ارو مش زي كنا توقع اله رحم...\n",
              "1   neutral  ناد نسب نجم ❤️❤️❤️مجلة اري كلر 💭 لكة صحراء 👑 ر...\n",
              "2   neutral                                    خدم وقع انه سمر\n",
              "3   neutral                      خدم يعن وفق لأن دمشق صير وسكو\n",
              "4   neutral  خدم قئد حرس عرف فقد يطر مني شرق غرب اير حوز حو..."
            ]
          },
          "metadata": {},
          "execution_count": 127
        }
      ]
    },
    {
      "cell_type": "markdown",
      "source": [
        "# sentiment Label Encoding"
      ],
      "metadata": {
        "id": "_cYhnkdOso-B"
      }
    },
    {
      "cell_type": "code",
      "source": [
        "# label_encoder object knows how to understand word labels.\n",
        "label_encoder_sentiment = preprocessing.LabelEncoder()\n",
        "# Encode labels in column 'species'.\n",
        "trainData_sentiment['sentiment']= label_encoder_sentiment.fit_transform(trainData_sentiment['sentiment'])\n",
        "testData_sentiment['sentiment']= label_encoder_sentiment.fit_transform(testData_sentiment['sentiment'])\n",
        "trainData_sentiment.head()"
      ],
      "metadata": {
        "id": "rbiHPqrXsoYY",
        "colab": {
          "base_uri": "https://localhost:8080/",
          "height": 206
        },
        "outputId": "9543de66-d290-4477-9b12-f0b4518de581"
      },
      "execution_count": null,
      "outputs": [
        {
          "output_type": "execute_result",
          "data": {
            "text/html": [
              "\n",
              "  <div id=\"df-0df197dd-3b2f-4236-8895-2caecc5ab785\">\n",
              "    <div class=\"colab-df-container\">\n",
              "      <div>\n",
              "<style scoped>\n",
              "    .dataframe tbody tr th:only-of-type {\n",
              "        vertical-align: middle;\n",
              "    }\n",
              "\n",
              "    .dataframe tbody tr th {\n",
              "        vertical-align: top;\n",
              "    }\n",
              "\n",
              "    .dataframe thead th {\n",
              "        text-align: right;\n",
              "    }\n",
              "</style>\n",
              "<table border=\"1\" class=\"dataframe\">\n",
              "  <thead>\n",
              "    <tr style=\"text-align: right;\">\n",
              "      <th></th>\n",
              "      <th>sentiment</th>\n",
              "      <th>tweet</th>\n",
              "    </tr>\n",
              "  </thead>\n",
              "  <tbody>\n",
              "    <tr>\n",
              "      <th>0</th>\n",
              "      <td>0</td>\n",
              "      <td>نصح عمر نزل لعب وبر ارو مش زي كنا توقع اله رحم...</td>\n",
              "    </tr>\n",
              "    <tr>\n",
              "      <th>1</th>\n",
              "      <td>1</td>\n",
              "      <td>ناد نسب نجم ❤️❤️❤️مجلة اري كلر 💭 لكة صحراء 👑 ر...</td>\n",
              "    </tr>\n",
              "    <tr>\n",
              "      <th>2</th>\n",
              "      <td>1</td>\n",
              "      <td>خدم وقع انه سمر</td>\n",
              "    </tr>\n",
              "    <tr>\n",
              "      <th>3</th>\n",
              "      <td>1</td>\n",
              "      <td>خدم يعن وفق لأن دمشق صير وسكو</td>\n",
              "    </tr>\n",
              "    <tr>\n",
              "      <th>4</th>\n",
              "      <td>1</td>\n",
              "      <td>خدم قئد حرس عرف فقد يطر مني شرق غرب اير حوز حو...</td>\n",
              "    </tr>\n",
              "  </tbody>\n",
              "</table>\n",
              "</div>\n",
              "      <button class=\"colab-df-convert\" onclick=\"convertToInteractive('df-0df197dd-3b2f-4236-8895-2caecc5ab785')\"\n",
              "              title=\"Convert this dataframe to an interactive table.\"\n",
              "              style=\"display:none;\">\n",
              "        \n",
              "  <svg xmlns=\"http://www.w3.org/2000/svg\" height=\"24px\"viewBox=\"0 0 24 24\"\n",
              "       width=\"24px\">\n",
              "    <path d=\"M0 0h24v24H0V0z\" fill=\"none\"/>\n",
              "    <path d=\"M18.56 5.44l.94 2.06.94-2.06 2.06-.94-2.06-.94-.94-2.06-.94 2.06-2.06.94zm-11 1L8.5 8.5l.94-2.06 2.06-.94-2.06-.94L8.5 2.5l-.94 2.06-2.06.94zm10 10l.94 2.06.94-2.06 2.06-.94-2.06-.94-.94-2.06-.94 2.06-2.06.94z\"/><path d=\"M17.41 7.96l-1.37-1.37c-.4-.4-.92-.59-1.43-.59-.52 0-1.04.2-1.43.59L10.3 9.45l-7.72 7.72c-.78.78-.78 2.05 0 2.83L4 21.41c.39.39.9.59 1.41.59.51 0 1.02-.2 1.41-.59l7.78-7.78 2.81-2.81c.8-.78.8-2.07 0-2.86zM5.41 20L4 18.59l7.72-7.72 1.47 1.35L5.41 20z\"/>\n",
              "  </svg>\n",
              "      </button>\n",
              "      \n",
              "  <style>\n",
              "    .colab-df-container {\n",
              "      display:flex;\n",
              "      flex-wrap:wrap;\n",
              "      gap: 12px;\n",
              "    }\n",
              "\n",
              "    .colab-df-convert {\n",
              "      background-color: #E8F0FE;\n",
              "      border: none;\n",
              "      border-radius: 50%;\n",
              "      cursor: pointer;\n",
              "      display: none;\n",
              "      fill: #1967D2;\n",
              "      height: 32px;\n",
              "      padding: 0 0 0 0;\n",
              "      width: 32px;\n",
              "    }\n",
              "\n",
              "    .colab-df-convert:hover {\n",
              "      background-color: #E2EBFA;\n",
              "      box-shadow: 0px 1px 2px rgba(60, 64, 67, 0.3), 0px 1px 3px 1px rgba(60, 64, 67, 0.15);\n",
              "      fill: #174EA6;\n",
              "    }\n",
              "\n",
              "    [theme=dark] .colab-df-convert {\n",
              "      background-color: #3B4455;\n",
              "      fill: #D2E3FC;\n",
              "    }\n",
              "\n",
              "    [theme=dark] .colab-df-convert:hover {\n",
              "      background-color: #434B5C;\n",
              "      box-shadow: 0px 1px 3px 1px rgba(0, 0, 0, 0.15);\n",
              "      filter: drop-shadow(0px 1px 2px rgba(0, 0, 0, 0.3));\n",
              "      fill: #FFFFFF;\n",
              "    }\n",
              "  </style>\n",
              "\n",
              "      <script>\n",
              "        const buttonEl =\n",
              "          document.querySelector('#df-0df197dd-3b2f-4236-8895-2caecc5ab785 button.colab-df-convert');\n",
              "        buttonEl.style.display =\n",
              "          google.colab.kernel.accessAllowed ? 'block' : 'none';\n",
              "\n",
              "        async function convertToInteractive(key) {\n",
              "          const element = document.querySelector('#df-0df197dd-3b2f-4236-8895-2caecc5ab785');\n",
              "          const dataTable =\n",
              "            await google.colab.kernel.invokeFunction('convertToInteractive',\n",
              "                                                     [key], {});\n",
              "          if (!dataTable) return;\n",
              "\n",
              "          const docLinkHtml = 'Like what you see? Visit the ' +\n",
              "            '<a target=\"_blank\" href=https://colab.research.google.com/notebooks/data_table.ipynb>data table notebook</a>'\n",
              "            + ' to learn more about interactive tables.';\n",
              "          element.innerHTML = '';\n",
              "          dataTable['output_type'] = 'display_data';\n",
              "          await google.colab.output.renderOutput(dataTable, element);\n",
              "          const docLink = document.createElement('div');\n",
              "          docLink.innerHTML = docLinkHtml;\n",
              "          element.appendChild(docLink);\n",
              "        }\n",
              "      </script>\n",
              "    </div>\n",
              "  </div>\n",
              "  "
            ],
            "text/plain": [
              "   sentiment                                              tweet\n",
              "0          0  نصح عمر نزل لعب وبر ارو مش زي كنا توقع اله رحم...\n",
              "1          1  ناد نسب نجم ❤️❤️❤️مجلة اري كلر 💭 لكة صحراء 👑 ر...\n",
              "2          1                                    خدم وقع انه سمر\n",
              "3          1                      خدم يعن وفق لأن دمشق صير وسكو\n",
              "4          1  خدم قئد حرس عرف فقد يطر مني شرق غرب اير حوز حو..."
            ]
          },
          "metadata": {},
          "execution_count": 128
        }
      ]
    },
    {
      "cell_type": "code",
      "source": [
        "# sentiment\n",
        "\n",
        "train_x, valid_x, train_y, valid_y = trainData_sentiment['tweet'],testData_sentiment['tweet'],trainData_sentiment['sentiment'],testData_sentiment['sentiment']\n",
        "print(len(set(train_y)))\n",
        "print(len(set(valid_y)))\n",
        "# TFIDF feature generation for a maximum of 5000 features\n",
        "print(\"vaild X\",valid_x.head())\n",
        "print(\"vaild Y\",valid_y.head())\n",
        "tfidf_vect = TfidfVectorizer(analyzer='word',token_pattern=r'\\w{1,}', max_features=5000)\n",
        "print(tfidf_vect)\n",
        "tfidf_vect.fit(trainData_sentiment['tweet'])\n",
        "xtrain_tfidf_sentiment = tfidf_vect.transform(train_x)\n",
        "xvalid_tfidf_sentiment = tfidf_vect.transform(valid_x)\n",
        "print(xtrain_tfidf.data)"
      ],
      "metadata": {
        "id": "A11YVOslXgCh",
        "colab": {
          "base_uri": "https://localhost:8080/"
        },
        "outputId": "c730ec5f-2ec0-41fd-8fe3-f0a1d8faed2d"
      },
      "execution_count": null,
      "outputs": [
        {
          "output_type": "stream",
          "name": "stdout",
          "text": [
            "3\n",
            "3\n",
            "vaild X 0    خدم خدم ه حزب اله حطم سطر ميركاف اسرائيليه عام...\n",
            "1    خدم بنت الي صمو بقل ترا رمض قرب وقت قلل الي نا...\n",
            "2                              شرة ربع اشب بنر حرق قلب\n",
            "3    خدم اهي ميز درج زنس علم اني روكسيل ارد ذهب مصر...\n",
            "4         تره لفز نفس شدد رشح هيلار كلن دونالد رمب ربط\n",
            "Name: tweet, dtype: object\n",
            "vaild Y 0    0\n",
            "1    2\n",
            "2    1\n",
            "3    1\n",
            "4    1\n",
            "Name: sentiment, dtype: int64\n",
            "TfidfVectorizer(max_features=5000, token_pattern='\\\\w{1,}')\n",
            "[0.31124131 0.16312454 0.27121338 ... 0.34689618 0.23199989 0.23928945]\n"
          ]
        }
      ]
    },
    {
      "cell_type": "markdown",
      "source": [
        "#SVM Sentiment"
      ],
      "metadata": {
        "id": "vbf_SSDxYlrF"
      }
    },
    {
      "cell_type": "code",
      "source": [
        "clf_svm_sentiment = svm.SVC(kernel='linear')\n",
        "#train_model\n",
        "accuracy,predictions=train_model(clf_svm_sentiment,xtrain_tfidf_sentiment, train_y, xvalid_tfidf_sentiment)\n",
        "print(\"accuracy_for_sarcasm: \",accuracy*100)\n",
        "print(\"-----------------------------------------------------\")\n",
        "print(\"-----------------------------------------------------\")\n",
        "from sklearn.metrics import classification_report,confusion_matrix\n",
        "print(classification_report(valid_y,predictions))"
      ],
      "metadata": {
        "id": "rTgunwk0X5z4",
        "colab": {
          "base_uri": "https://localhost:8080/"
        },
        "outputId": "54521df3-6fed-4de3-d8c1-cdff2512ee19"
      },
      "execution_count": null,
      "outputs": [
        {
          "output_type": "stream",
          "name": "stdout",
          "text": [
            "accuracy_for_sarcasm:  67.58293838862559\n",
            "-----------------------------------------------------\n",
            "-----------------------------------------------------\n",
            "              precision    recall  f1-score   support\n",
            "\n",
            "           0       0.64      0.63      0.64       716\n",
            "           1       0.70      0.80      0.74      1078\n",
            "           2       0.65      0.37      0.47       316\n",
            "\n",
            "    accuracy                           0.68      2110\n",
            "   macro avg       0.66      0.60      0.62      2110\n",
            "weighted avg       0.67      0.68      0.67      2110\n",
            "\n"
          ]
        }
      ]
    },
    {
      "cell_type": "code",
      "source": [
        "import numpy as np\n",
        "text_clean=\"الأمين العام للأمم المتحدة: بشار الأسد قتل 300 ألف شخص فى سوريا\"\n",
        "def convert_sample_to_numbers(text):\n",
        "  text_result=tfidf_vect.transform([text])\n",
        "  return text_result\n",
        "test=convert_sample_to_numbers(text_clean)\n",
        "\n",
        "print(label_encoder_sentiment.inverse_transform(clf_svm_sentiment.predict(test))) "
      ],
      "metadata": {
        "id": "rBVUJozEtIgZ",
        "colab": {
          "base_uri": "https://localhost:8080/"
        },
        "outputId": "8e2682ac-33a1-4e04-8d50-96126b7f7e0c"
      },
      "execution_count": null,
      "outputs": [
        {
          "output_type": "stream",
          "name": "stdout",
          "text": [
            "['negative']\n"
          ]
        }
      ]
    },
    {
      "cell_type": "markdown",
      "source": [
        "#KNN for Sentiment "
      ],
      "metadata": {
        "id": "t3l92RkbY9qY"
      }
    },
    {
      "cell_type": "code",
      "source": [
        "from sklearn.neighbors import KNeighborsClassifier\n",
        "\n",
        "knn_model_sentiment = KNeighborsClassifier(n_neighbors=3)\n",
        "\n",
        "accuracy,predictions=train_model(knn_model_sentiment,xtrain_tfidf_sentiment,train_y,xvalid_tfidf_sentiment)\n",
        "print(\"KNN accuracy_for_sarcasm: \",accuracy*100)\n",
        "print(\"-----------------------------------------------------\")\n",
        "print(\"-----------------------------------------------------\")\n",
        "from sklearn.metrics import classification_report,confusion_matrix\n",
        "print(classification_report(valid_y,predictions))"
      ],
      "metadata": {
        "id": "FLUvHoREYcwS",
        "colab": {
          "base_uri": "https://localhost:8080/"
        },
        "outputId": "a0ca8a01-dc5a-458f-ef35-b8fc6ba68270"
      },
      "execution_count": null,
      "outputs": [
        {
          "output_type": "stream",
          "name": "stdout",
          "text": [
            "KNN accuracy_for_sarcasm:  59.19431279620853\n",
            "-----------------------------------------------------\n",
            "-----------------------------------------------------\n",
            "              precision    recall  f1-score   support\n",
            "\n",
            "           0       0.55      0.47      0.51       716\n",
            "           1       0.64      0.74      0.69      1078\n",
            "           2       0.45      0.36      0.40       316\n",
            "\n",
            "    accuracy                           0.59      2110\n",
            "   macro avg       0.55      0.52      0.53      2110\n",
            "weighted avg       0.58      0.59      0.58      2110\n",
            "\n"
          ]
        }
      ]
    },
    {
      "cell_type": "code",
      "source": [
        "#Import Random Forest Model\n",
        "from sklearn.ensemble import RandomForestClassifier\n",
        "\n",
        "#Create a Gaussian Classifier\n",
        "RandomForestClassifier_model=RandomForestClassifier(n_estimators=100)\n",
        "\n",
        "accuracy,predictions=train_model(RandomForestClassifier_model,xtrain_tfidf_sentiment,train_y,xvalid_tfidf_sentiment)\n",
        "print(\"RandomForestClassifier_model accuracy_for_sentiment: \",accuracy*100)\n",
        "print(\"-----------------------------------------------------\")\n",
        "print(\"-----------------------------------------------------\")\n",
        "from sklearn.metrics import classification_report,confusion_matrix\n",
        "print(classification_report(valid_y,predictions))"
      ],
      "metadata": {
        "id": "Z53nQjKNZiQJ",
        "colab": {
          "base_uri": "https://localhost:8080/"
        },
        "outputId": "714f70cb-5fa1-4bb8-e07e-55010645c469"
      },
      "execution_count": null,
      "outputs": [
        {
          "output_type": "stream",
          "name": "stdout",
          "text": [
            "RandomForestClassifier_model accuracy_for_sentiment:  66.39810426540285\n",
            "-----------------------------------------------------\n",
            "-----------------------------------------------------\n",
            "              precision    recall  f1-score   support\n",
            "\n",
            "           0       0.63      0.64      0.63       716\n",
            "           1       0.69      0.79      0.74      1078\n",
            "           2       0.59      0.30      0.40       316\n",
            "\n",
            "    accuracy                           0.66      2110\n",
            "   macro avg       0.64      0.58      0.59      2110\n",
            "weighted avg       0.66      0.66      0.65      2110\n",
            "\n"
          ]
        }
      ]
    },
    {
      "cell_type": "code",
      "source": [
        "from sklearn.tree import DecisionTreeClassifier\n",
        "# Create Decision Tree classifer object\n",
        "clf_decisionTree_sentiment = DecisionTreeClassifier()\n",
        "\n",
        "accuracy,predictions=train_model(clf_decisionTree_sentiment,xtrain_tfidf_sentiment,train_y,xvalid_tfidf_sentiment)\n",
        "print(\"DecisionTreeClassifier accuracy_for_sentiment: \",accuracy*100)\n",
        "print(\"-----------------------------------------------------\")\n",
        "print(\"-----------------------------------------------------\")\n",
        "from sklearn.metrics import classification_report,confusion_matrix\n",
        "print(classification_report(valid_y,predictions))"
      ],
      "metadata": {
        "id": "NLK0oFM-YoqF",
        "colab": {
          "base_uri": "https://localhost:8080/"
        },
        "outputId": "66ab899c-7b07-462d-b27c-27cd43f50693"
      },
      "execution_count": null,
      "outputs": [
        {
          "output_type": "stream",
          "name": "stdout",
          "text": [
            "DecisionTreeClassifier accuracy_for_sentiment:  57.72511848341232\n",
            "-----------------------------------------------------\n",
            "-----------------------------------------------------\n",
            "              precision    recall  f1-score   support\n",
            "\n",
            "           0       0.53      0.56      0.54       716\n",
            "           1       0.67      0.65      0.66      1078\n",
            "           2       0.37      0.37      0.37       316\n",
            "\n",
            "    accuracy                           0.58      2110\n",
            "   macro avg       0.53      0.53      0.53      2110\n",
            "weighted avg       0.58      0.58      0.58      2110\n",
            "\n"
          ]
        }
      ]
    },
    {
      "cell_type": "code",
      "source": [
        "# Create ComplementNB classifer object\n",
        "clf_ComplementNB = ComplementNB()\n",
        "\n",
        "accuracy,predictions=train_model(clf_ComplementNB,xtrain_tfidf_sentiment.toarray(),train_y,xvalid_tfidf_sentiment.toarray())\n",
        "print(\"ComplementNB classifer accuracy_for_sentiment: \",accuracy*100)\n",
        "print(\"-----------------------------------------------------\")\n",
        "print(\"-----------------------------------------------------\")\n",
        "from sklearn.metrics import classification_report,confusion_matrix\n",
        "print(classification_report(valid_y,predictions))"
      ],
      "metadata": {
        "colab": {
          "base_uri": "https://localhost:8080/"
        },
        "id": "Y-DfAyRLL30f",
        "outputId": "b20afb4b-0098-4a34-80fe-77f3baeb2c40"
      },
      "execution_count": null,
      "outputs": [
        {
          "output_type": "stream",
          "name": "stdout",
          "text": [
            "ComplementNB classifer accuracy_for_sentiment:  68.00947867298578\n",
            "-----------------------------------------------------\n",
            "-----------------------------------------------------\n",
            "              precision    recall  f1-score   support\n",
            "\n",
            "           0       0.65      0.71      0.68       716\n",
            "           1       0.76      0.72      0.74      1078\n",
            "           2       0.48      0.46      0.47       316\n",
            "\n",
            "    accuracy                           0.68      2110\n",
            "   macro avg       0.63      0.63      0.63      2110\n",
            "weighted avg       0.68      0.68      0.68      2110\n",
            "\n"
          ]
        }
      ]
    }
  ]
}